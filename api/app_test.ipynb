{
 "cells": [
  {
   "cell_type": "code",
   "execution_count": null,
   "metadata": {},
   "outputs": [],
   "source": [
    "import pandas as pd\n",
    "import geopandas as gpd\n",
    "import requests as r\n",
    "import json\n",
    "\n",
    "from IPython.display import SVG, display"
   ]
  },
  {
   "cell_type": "code",
   "execution_count": null,
   "metadata": {},
   "outputs": [],
   "source": [
    "ontology = pd.read_csv(\"app/data/ontology.csv\", index_col=0)\n",
    "graduates = pd.read_csv(\"app/data/graduates.csv\", index_col=0)\n",
    "vacancy = pd.read_parquet(\"app/data/vacancy.gzip\")\n",
    "responses = pd.read_parquet(\"app/data/responses.gzip\")\n",
    "cv = pd.read_parquet(\"app/data/cv.gzip\")\n",
    "cities = gpd.read_file(\"app/data/cities.geojson\")"
   ]
  },
  {
   "cell_type": "code",
   "execution_count": null,
   "metadata": {},
   "outputs": [],
   "source": [
    "test_request = {\n",
    "  \"workforce_type\": \"all\",\n",
    "  \"specialities\": {'0': 0.9, '1': 1, '4': 0.1, '8': 0.5, '10': 0.9, '11': 0.2, '14': 1, '16': 1, '17': 0.6, '18': 0.5, '22': 1},\n",
    "  \"edu_groups\": {\n",
    "    \"3\": 0.1,\n",
    "    \"5\": 0.5,\n",
    "    \"12\": 0.7,\n",
    "    \"20\": 0.5,\n",
    "    \"21\": 0.6\n",
    "    \n",
    "  }\n",
    "}"
   ]
  },
  {
   "cell_type": "code",
   "execution_count": null,
   "metadata": {},
   "outputs": [],
   "source": [
    "# responses = r.post('http://10.32.1.62:5500/api/calculation/estimates', json=test_request)\n",
    "# responses = r.post('http://172.17.0.2:5000/api/calculation/estimates', json=test_request)\n",
    "responses = r.post('http://0.0.0.0:5000/api/calculation/estimates', json=test_request)"
   ]
  },
  {
   "cell_type": "code",
   "execution_count": null,
   "metadata": {},
   "outputs": [],
   "source": [
    "gpd.GeoDataFrame.from_features(responses.json()['estimates']).columns"
   ]
  },
  {
   "cell_type": "code",
   "execution_count": null,
   "metadata": {},
   "outputs": [],
   "source": [
    "estimates = gpd.GeoDataFrame.from_features(responses.json()['estimates'])\n",
    "links = gpd.GeoDataFrame.from_features(responses.json()['links'])"
   ]
  },
  {
   "cell_type": "code",
   "execution_count": null,
   "metadata": {},
   "outputs": [],
   "source": [
    "estimates[['region_city', \"estimate\", \"num_in_migration\"]]"
   ]
  },
  {
   "cell_type": "code",
   "execution_count": null,
   "metadata": {},
   "outputs": [],
   "source": [
    "test_request = {\n",
    "  \"city\": \"Пермский край, Пермь\"\n",
    "}\n",
    "\n",
    "# responses = r.post('http://10.32.1.62:5500/api/calculation/connection', json=test_request)\n",
    "# responses = r.post('http://172.17.0.2:5000/api/calculation/connection', json=test_request)\n",
    "responses = r.post('http://0.0.0.0:5000/api/calculation/connection', json=test_request)"
   ]
  },
  {
   "cell_type": "code",
   "execution_count": null,
   "metadata": {},
   "outputs": [],
   "source": [
    "migration_link = gpd.GeoDataFrame.from_features(responses.json()['migration_link'])"
   ]
  },
  {
   "cell_type": "code",
   "execution_count": null,
   "metadata": {},
   "outputs": [],
   "source": [
    "agglomeration_links = gpd.GeoDataFrame.from_features(responses.json()['agglomeration_links'])\n",
    "agglomeration_nodes = gpd.GeoDataFrame.from_features(responses.json()['agglomeration_nodes'])"
   ]
  },
  {
   "cell_type": "code",
   "execution_count": null,
   "metadata": {},
   "outputs": [],
   "source": [
    "agglomeration_nodes"
   ]
  },
  {
   "cell_type": "code",
   "execution_count": null,
   "metadata": {},
   "outputs": [],
   "source": [
    "test_request = {\n",
    "  \"city_name\": \"Пермский край, Пермь\",\n",
    "  \"plot\": True,\n",
    "  'estimates_table': json.loads(estimates.to_json())\n",
    "}\n",
    "\n",
    "# responses = r.post('http://10.32.1.62:5500/api/calculation/prediction', json=test_request)\n",
    "# responses = r.post('http://172.17.0.2:5000/api/calculation/prediction', json=test_request)\n",
    "responses = r.post('http://0.0.0.0:5000/api/calculation/prediction', json=test_request)"
   ]
  },
  {
   "cell_type": "code",
   "execution_count": null,
   "metadata": {},
   "outputs": [],
   "source": [
    "city_features = responses.json()['city_features']\n",
    "gpd.GeoDataFrame.from_features(city_features)[[\"estimate_after\", \"estimate_before\"]]"
   ]
  },
  {
   "cell_type": "code",
   "execution_count": null,
   "metadata": {},
   "outputs": [],
   "source": [
    "new_links = gpd.GeoDataFrame.from_features(responses.json()['new_links'])\n",
    "new_links.set_index(\"cluster_center_cv\").equals(migration_link.set_index(\"cluster_center_cv\").loc[new_links[\"cluster_center_cv\"]])"
   ]
  },
  {
   "cell_type": "code",
   "execution_count": null,
   "metadata": {},
   "outputs": [],
   "source": [
    "slice = estimates[\"region_city\"] == \"Пермский край, Пермь\""
   ]
  },
  {
   "cell_type": "code",
   "execution_count": null,
   "metadata": {},
   "outputs": [],
   "source": [
    "from IPython.display import SVG, display\n",
    "display(SVG(responses.json()['plot']))"
   ]
  },
  {
   "cell_type": "code",
   "execution_count": null,
   "metadata": {},
   "outputs": [],
   "source": [
    "estimates.columns"
   ]
  },
  {
   "cell_type": "code",
   "execution_count": null,
   "metadata": {},
   "outputs": [],
   "source": [
    "estimates.loc[slice, 'vacancy_count'] -= 100"
   ]
  },
  {
   "cell_type": "code",
   "execution_count": null,
   "metadata": {},
   "outputs": [],
   "source": [
    "estimates.loc[slice, 'median_salary'] += 10000\n",
    "estimates.loc[slice, 'ueqi_social_and_leisure_infrastructure'] += 10"
   ]
  },
  {
   "cell_type": "code",
   "execution_count": null,
   "metadata": {},
   "outputs": [],
   "source": [
    "test_request = {\n",
    "  \"city_name\": \"Пермский край, Пермь\",\n",
    "  \"plot\": True,\n",
    "  'estimates_table': json.loads(estimates.to_json())\n",
    "}\n",
    "\n",
    "# responses = r.post('http://10.32.1.62:5500/api/calculation/prediction', json=test_request)\n",
    "# responses = r.post('http://172.17.0.2:5000/api/calculation/prediction', json=test_request)\n",
    "responses = r.post('http://0.0.0.0:5000/api/calculation/prediction', json=test_request)"
   ]
  },
  {
   "cell_type": "code",
   "execution_count": null,
   "metadata": {},
   "outputs": [],
   "source": [
    "city_features = responses.json()['city_features']\n",
    "gpd.GeoDataFrame.from_features(city_features)[[\"estimate_after\", \"estimate_before\", \"num_in_migration_before\", \"num_in_migration_after\"]]"
   ]
  },
  {
   "cell_type": "code",
   "execution_count": null,
   "metadata": {},
   "outputs": [],
   "source": [
    "from IPython.display import SVG, display\n",
    "from matplotlib import pyplot as plt\n",
    "display(SVG(responses.json()['plot']))"
   ]
  },
  {
   "cell_type": "code",
   "execution_count": null,
   "metadata": {},
   "outputs": [],
   "source": [
    "response = r.get('http://0.0.0.0:5000/api/calculation/plots')"
   ]
  },
  {
   "cell_type": "code",
   "execution_count": null,
   "metadata": {},
   "outputs": [],
   "source": [
    "response.json().keys()"
   ]
  },
  {
   "cell_type": "code",
   "execution_count": null,
   "metadata": {},
   "outputs": [],
   "source": [
    "from IPython.display import SVG, display\n",
    "display(SVG(response.json()['small']))"
   ]
  },
  {
   "cell_type": "code",
   "execution_count": null,
   "metadata": {},
   "outputs": [],
   "source": [
    "from IPython.display import SVG, display\n",
    "display(SVG(response.json()['average']))"
   ]
  },
  {
   "cell_type": "code",
   "execution_count": null,
   "metadata": {},
   "outputs": [],
   "source": [
    "from IPython.display import SVG, display\n",
    "display(SVG(response.json()['big']))"
   ]
  },
  {
   "cell_type": "code",
   "execution_count": null,
   "metadata": {},
   "outputs": [],
   "source": [
    "from IPython.display import SVG, display\n",
    "display(SVG(response.json()['large']))"
   ]
  },
  {
   "cell_type": "code",
   "execution_count": null,
   "metadata": {},
   "outputs": [],
   "source": [
    "from IPython.display import SVG, display\n",
    "display(SVG(response.json()['largest']))"
   ]
  }
 ],
 "metadata": {
  "kernelspec": {
   "display_name": "common_venv",
   "language": "python",
   "name": "python3"
  },
  "language_info": {
   "codemirror_mode": {
    "name": "ipython",
    "version": 3
   },
   "file_extension": ".py",
   "mimetype": "text/x-python",
   "name": "python",
   "nbconvert_exporter": "python",
   "pygments_lexer": "ipython3",
   "version": "3.10.13"
  }
 },
 "nbformat": 4,
 "nbformat_minor": 2
}
