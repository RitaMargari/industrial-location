{
 "cells": [
  {
   "cell_type": "code",
   "execution_count": 52,
   "metadata": {},
   "outputs": [],
   "source": [
    "import pandas as pd\n",
    "import geopandas as gpd\n",
    "import requests as r\n",
    "import json"
   ]
  },
  {
   "cell_type": "code",
   "execution_count": 53,
   "metadata": {},
   "outputs": [],
   "source": [
    "test_request = {\n",
    "  \"workforce_type\": \"all\",\n",
    "  \"specialities\": {'0': 0.9, '1': 1, '4': 0.1, '8': 0.5, '10': 0.9, '11': 0.2, '14': 1, '16': 1, '17': 0.6, '18': 0.5, '22': 1},\n",
    "  \"edu_groups\": {\n",
    "    \"3\": 0.1,\n",
    "    \"5\": 0.5,\n",
    "    \"12\": 0.7,\n",
    "    \"20\": 0.5,\n",
    "    \"21\": 0.6\n",
    "    \n",
    "  }\n",
    "}\n",
    "\n",
    "ontology = pd.read_csv(\"/var/essdata/IDU/other/mm_22/industrial-location/api//app/data/ontology.csv\", index_col=0)\n",
    "graduates = pd.read_csv(\"/var/essdata/IDU/other/mm_22/industrial-location/api/app/data/graduates.csv\", index_col=0)\n",
    "vacancy = pd.read_parquet(\"/var/essdata/IDU/other/mm_22/industrial-location/api/app/data/vacancy.gzip\")\n",
    "responses = pd.read_parquet(\"/var/essdata/IDU/other/mm_22/industrial-location/api/app/data/responses.gzip\")\n",
    "cv = pd.read_parquet(\"/var/essdata/IDU/other/mm_22/industrial-location/api/app/data/cv.gzip\")\n",
    "cities = gpd.read_file(\"/var/essdata/IDU/other/mm_22/industrial-location/api/app/data/cities.geojson\")"
   ]
  },
  {
   "cell_type": "code",
   "execution_count": 54,
   "metadata": {},
   "outputs": [],
   "source": [
    "# responses = r.post('http://10.32.1.62:5500/api/calculation/estimates', json=test_request)\n",
    "responses = r.post('http://10.32.1.60:5000/api/calculation/estimates', json=test_request)"
   ]
  },
  {
   "cell_type": "code",
   "execution_count": 55,
   "metadata": {},
   "outputs": [],
   "source": [
    "estimates = gpd.GeoDataFrame.from_features(responses.json()['estimates'])\n",
    "links = gpd.GeoDataFrame.from_features(responses.json()['links'])"
   ]
  },
  {
   "cell_type": "code",
   "execution_count": 56,
   "metadata": {},
   "outputs": [
    {
     "data": {
      "text/html": [
       "<div>\n",
       "<style scoped>\n",
       "    .dataframe tbody tr th:only-of-type {\n",
       "        vertical-align: middle;\n",
       "    }\n",
       "\n",
       "    .dataframe tbody tr th {\n",
       "        vertical-align: top;\n",
       "    }\n",
       "\n",
       "    .dataframe thead th {\n",
       "        text-align: right;\n",
       "    }\n",
       "</style>\n",
       "<table border=\"1\" class=\"dataframe\">\n",
       "  <thead>\n",
       "    <tr style=\"text-align: right;\">\n",
       "      <th></th>\n",
       "      <th>region_city</th>\n",
       "      <th>estimate</th>\n",
       "      <th>num_in_migration</th>\n",
       "    </tr>\n",
       "  </thead>\n",
       "  <tbody>\n",
       "    <tr>\n",
       "      <th>0</th>\n",
       "      <td>Москва, Москва</td>\n",
       "      <td>1.000</td>\n",
       "      <td>6618.0</td>\n",
       "    </tr>\n",
       "    <tr>\n",
       "      <th>1</th>\n",
       "      <td>Санкт-Петербург, Санкт-Петербург</td>\n",
       "      <td>0.972</td>\n",
       "      <td>1366.0</td>\n",
       "    </tr>\n",
       "    <tr>\n",
       "      <th>2</th>\n",
       "      <td>Омская область, Омск</td>\n",
       "      <td>0.963</td>\n",
       "      <td>1177.0</td>\n",
       "    </tr>\n",
       "    <tr>\n",
       "      <th>3</th>\n",
       "      <td>Ростовская область, Ростов-на-Дону</td>\n",
       "      <td>0.958</td>\n",
       "      <td>1233.0</td>\n",
       "    </tr>\n",
       "    <tr>\n",
       "      <th>4</th>\n",
       "      <td>Красноярский край, Красноярск</td>\n",
       "      <td>0.956</td>\n",
       "      <td>1292.0</td>\n",
       "    </tr>\n",
       "    <tr>\n",
       "      <th>...</th>\n",
       "      <td>...</td>\n",
       "      <td>...</td>\n",
       "      <td>...</td>\n",
       "    </tr>\n",
       "    <tr>\n",
       "      <th>1112</th>\n",
       "      <td>Курская область, Дмитриев-Льговский</td>\n",
       "      <td>0.000</td>\n",
       "      <td>0.0</td>\n",
       "    </tr>\n",
       "    <tr>\n",
       "      <th>1113</th>\n",
       "      <td>Московская область, Красноармейск</td>\n",
       "      <td>0.000</td>\n",
       "      <td>0.0</td>\n",
       "    </tr>\n",
       "    <tr>\n",
       "      <th>1114</th>\n",
       "      <td>Московская область, Озёры</td>\n",
       "      <td>0.000</td>\n",
       "      <td>0.0</td>\n",
       "    </tr>\n",
       "    <tr>\n",
       "      <th>1115</th>\n",
       "      <td>Московская область, Белоозёрский</td>\n",
       "      <td>0.000</td>\n",
       "      <td>0.0</td>\n",
       "    </tr>\n",
       "    <tr>\n",
       "      <th>1116</th>\n",
       "      <td>Ставропольский край, Будённовск</td>\n",
       "      <td>0.000</td>\n",
       "      <td>0.0</td>\n",
       "    </tr>\n",
       "  </tbody>\n",
       "</table>\n",
       "<p>1117 rows × 3 columns</p>\n",
       "</div>"
      ],
      "text/plain": [
       "                              region_city  estimate  num_in_migration\n",
       "0                          Москва, Москва     1.000            6618.0\n",
       "1        Санкт-Петербург, Санкт-Петербург     0.972            1366.0\n",
       "2                    Омская область, Омск     0.963            1177.0\n",
       "3      Ростовская область, Ростов-на-Дону     0.958            1233.0\n",
       "4           Красноярский край, Красноярск     0.956            1292.0\n",
       "...                                   ...       ...               ...\n",
       "1112  Курская область, Дмитриев-Льговский     0.000               0.0\n",
       "1113    Московская область, Красноармейск     0.000               0.0\n",
       "1114            Московская область, Озёры     0.000               0.0\n",
       "1115     Московская область, Белоозёрский     0.000               0.0\n",
       "1116      Ставропольский край, Будённовск     0.000               0.0\n",
       "\n",
       "[1117 rows x 3 columns]"
      ]
     },
     "execution_count": 56,
     "metadata": {},
     "output_type": "execute_result"
    }
   ],
   "source": [
    "estimates[['region_city', \"estimate\", \"num_in_migration\"]]"
   ]
  },
  {
   "cell_type": "code",
   "execution_count": 57,
   "metadata": {},
   "outputs": [],
   "source": [
    "test_request = {\n",
    "  \"city\": \"Пермский край, Пермь\"\n",
    "}\n",
    "\n",
    "# responses = r.post('http://10.32.1.62:5500/api/calculation/connection', json=test_request)\n",
    "responses = r.post('http://10.32.1.60:5000/api/calculation/connection', json=test_request)"
   ]
  },
  {
   "cell_type": "code",
   "execution_count": 58,
   "metadata": {},
   "outputs": [],
   "source": [
    "migration_link = gpd.GeoDataFrame.from_features(responses.json()['migration_link'])"
   ]
  },
  {
   "cell_type": "code",
   "execution_count": 59,
   "metadata": {},
   "outputs": [],
   "source": [
    "test_request = {\n",
    "  \"city_name\": \"Пермский край, Пермь\",\n",
    "  'estimates_table': json.loads(estimates.to_json())\n",
    "}\n",
    "\n",
    "# responses = r.post('http://10.32.1.62:5500/api/calculation/prediction', json=test_request)\n",
    "responses = r.post('http://10.32.1.60:5000/api/calculation/prediction', json=test_request)"
   ]
  },
  {
   "cell_type": "code",
   "execution_count": 60,
   "metadata": {},
   "outputs": [
    {
     "data": {
      "text/plain": [
       "dict_keys(['city_features', 'new_links'])"
      ]
     },
     "execution_count": 60,
     "metadata": {},
     "output_type": "execute_result"
    }
   ],
   "source": [
    "responses.json().keys()"
   ]
  },
  {
   "cell_type": "code",
   "execution_count": 62,
   "metadata": {},
   "outputs": [
    {
     "data": {
      "text/html": [
       "<div>\n",
       "<style scoped>\n",
       "    .dataframe tbody tr th:only-of-type {\n",
       "        vertical-align: middle;\n",
       "    }\n",
       "\n",
       "    .dataframe tbody tr th {\n",
       "        vertical-align: top;\n",
       "    }\n",
       "\n",
       "    .dataframe thead th {\n",
       "        text-align: right;\n",
       "    }\n",
       "</style>\n",
       "<table border=\"1\" class=\"dataframe\">\n",
       "  <thead>\n",
       "    <tr style=\"text-align: right;\">\n",
       "      <th></th>\n",
       "      <th>estimate_after</th>\n",
       "      <th>estimate_before</th>\n",
       "    </tr>\n",
       "  </thead>\n",
       "  <tbody>\n",
       "    <tr>\n",
       "      <th>0</th>\n",
       "      <td>0.947</td>\n",
       "      <td>0.947</td>\n",
       "    </tr>\n",
       "  </tbody>\n",
       "</table>\n",
       "</div>"
      ],
      "text/plain": [
       "   estimate_after  estimate_before\n",
       "0           0.947            0.947"
      ]
     },
     "execution_count": 62,
     "metadata": {},
     "output_type": "execute_result"
    }
   ],
   "source": [
    "city_features = responses.json()['city_features']\n",
    "gpd.GeoDataFrame.from_features(city_features)[[\"estimate_after\", \"estimate_before\"]]"
   ]
  },
  {
   "cell_type": "code",
   "execution_count": 63,
   "metadata": {},
   "outputs": [],
   "source": [
    "new_links = gpd.GeoDataFrame.from_features(responses.json()['new_links'])"
   ]
  },
  {
   "cell_type": "code",
   "execution_count": 64,
   "metadata": {},
   "outputs": [
    {
     "data": {
      "text/plain": [
       "True"
      ]
     },
     "execution_count": 64,
     "metadata": {},
     "output_type": "execute_result"
    }
   ],
   "source": [
    "new_links.set_index(\"cluster_center_cv\").equals(migration_link.set_index(\"cluster_center_cv\").loc[new_links[\"cluster_center_cv\"]])"
   ]
  },
  {
   "cell_type": "code",
   "execution_count": 65,
   "metadata": {},
   "outputs": [],
   "source": [
    "slice = estimates[\"region_city\"] == \"Пермский край, Пермь\""
   ]
  },
  {
   "cell_type": "code",
   "execution_count": 66,
   "metadata": {},
   "outputs": [
    {
     "data": {
      "text/plain": [
       "Index(['geometry', 'city', 'city_category', 'cv_count_weighted_sum',\n",
       "       'cvs_count_all', 'estimate', 'factories_total',\n",
       "       'graduates_forecast_number', 'graduates_forecast_sum_number',\n",
       "       'graduates_weighted_sum', 'harsh_climate', 'index', 'max_salary',\n",
       "       'median_salary', 'min_salary', 'num_in_migration', 'num_out_migration',\n",
       "       'num_responses', 'one_vacancy_out_response', 'population',\n",
       "       'probability_to_move', 'region', 'region_city', 'specialists_number',\n",
       "       'specialists_sum_number', 'ueqi_citywide_space', 'ueqi_green_spaces',\n",
       "       'ueqi_public_and_business_infrastructure', 'ueqi_residential',\n",
       "       'ueqi_score', 'ueqi_social_and_leisure_infrastructure',\n",
       "       'ueqi_street_networks', 'vacancy_count'],\n",
       "      dtype='object')"
      ]
     },
     "execution_count": 66,
     "metadata": {},
     "output_type": "execute_result"
    }
   ],
   "source": [
    "estimates.columns"
   ]
  },
  {
   "cell_type": "code",
   "execution_count": 67,
   "metadata": {},
   "outputs": [],
   "source": [
    "estimates.loc[slice, 'ueqi_social_and_leisure_infrastructure'] += 25\n",
    "estimates.loc[slice, 'ueqi_public_and_business_infrastructure'] += 25\n",
    "estimates.loc[slice, 'ueqi_citywide_space'] += 25"
   ]
  },
  {
   "cell_type": "code",
   "execution_count": 70,
   "metadata": {},
   "outputs": [],
   "source": [
    "test_request = {\n",
    "  \"city_name\": \"Пермский край, Пермь\",\n",
    "  'estimates_table': json.loads(estimates.to_json())\n",
    "}\n",
    "\n",
    "# responses = r.post('http://10.32.1.62:5500/api/calculation/prediction', json=test_request)\n",
    "responses = r.post('http://10.32.1.60:5000/api/calculation/prediction', json=test_request)"
   ]
  },
  {
   "cell_type": "code",
   "execution_count": 74,
   "metadata": {},
   "outputs": [
    {
     "data": {
      "text/html": [
       "<div>\n",
       "<style scoped>\n",
       "    .dataframe tbody tr th:only-of-type {\n",
       "        vertical-align: middle;\n",
       "    }\n",
       "\n",
       "    .dataframe tbody tr th {\n",
       "        vertical-align: top;\n",
       "    }\n",
       "\n",
       "    .dataframe thead th {\n",
       "        text-align: right;\n",
       "    }\n",
       "</style>\n",
       "<table border=\"1\" class=\"dataframe\">\n",
       "  <thead>\n",
       "    <tr style=\"text-align: right;\">\n",
       "      <th></th>\n",
       "      <th>estimate_after</th>\n",
       "      <th>estimate_before</th>\n",
       "      <th>num_in_migration_before</th>\n",
       "      <th>num_in_migration_after</th>\n",
       "    </tr>\n",
       "  </thead>\n",
       "  <tbody>\n",
       "    <tr>\n",
       "      <th>0</th>\n",
       "      <td>0.982</td>\n",
       "      <td>0.947</td>\n",
       "      <td>718.0</td>\n",
       "      <td>3383.0</td>\n",
       "    </tr>\n",
       "  </tbody>\n",
       "</table>\n",
       "</div>"
      ],
      "text/plain": [
       "   estimate_after  estimate_before  num_in_migration_before  \\\n",
       "0           0.982            0.947                    718.0   \n",
       "\n",
       "   num_in_migration_after  \n",
       "0                  3383.0  "
      ]
     },
     "execution_count": 74,
     "metadata": {},
     "output_type": "execute_result"
    }
   ],
   "source": [
    "city_features = responses.json()['city_features']\n",
    "gpd.GeoDataFrame.from_features(city_features)[[\"estimate_after\", \"estimate_before\", \"num_in_migration_before\", \"num_in_migration_after\"]]"
   ]
  },
  {
   "cell_type": "code",
   "execution_count": 73,
   "metadata": {},
   "outputs": [
    {
     "data": {
      "text/plain": [
       "Index(['geometry', 'city', 'city_category', 'cv_count_weighted_sum',\n",
       "       'cvs_count_all', 'estimate_after', 'estimate_before', 'factories_total',\n",
       "       'graduates_forecast_number', 'graduates_forecast_sum_number',\n",
       "       'graduates_weighted_sum', 'harsh_climate', 'index', 'max_salary',\n",
       "       'median_salary', 'min_salary', 'num_in_migration_after',\n",
       "       'num_in_migration_before', 'num_out_migration', 'num_responses',\n",
       "       'one_vacancy_out_response', 'population', 'probability_to_move',\n",
       "       'region', 'specialists_number', 'specialists_sum_number',\n",
       "       'ueqi_citywide_space', 'ueqi_green_spaces',\n",
       "       'ueqi_public_and_business_infrastructure', 'ueqi_residential',\n",
       "       'ueqi_score', 'ueqi_social_and_leisure_infrastructure',\n",
       "       'ueqi_street_networks', 'vacancy_count'],\n",
       "      dtype='object')"
      ]
     },
     "execution_count": 73,
     "metadata": {},
     "output_type": "execute_result"
    }
   ],
   "source": [
    "gpd.GeoDataFrame.from_features(city_features).columns"
   ]
  },
  {
   "cell_type": "code",
   "execution_count": 46,
   "metadata": {},
   "outputs": [
    {
     "data": {
      "text/plain": [
       "{'before': {'estimate': 0.947, 'in_migration': 718},\n",
       " 'after': {'estimate': 0.982, 'in_migration': 3383}}"
      ]
     },
     "execution_count": 46,
     "metadata": {},
     "output_type": "execute_result"
    }
   ],
   "source": [
    "responses.json()[\"update_dict\"]"
   ]
  }
 ],
 "metadata": {
  "kernelspec": {
   "display_name": "common_venv",
   "language": "python",
   "name": "python3"
  },
  "language_info": {
   "codemirror_mode": {
    "name": "ipython",
    "version": 3
   },
   "file_extension": ".py",
   "mimetype": "text/x-python",
   "name": "python",
   "nbconvert_exporter": "python",
   "pygments_lexer": "ipython3",
   "version": "3.9.16"
  }
 },
 "nbformat": 4,
 "nbformat_minor": 2
}
