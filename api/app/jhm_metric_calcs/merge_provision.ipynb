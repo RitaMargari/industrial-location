{
 "cells": [
  {
   "cell_type": "code",
   "execution_count": 10,
   "metadata": {},
   "outputs": [],
   "source": [
    "import geopandas as gpd"
   ]
  },
  {
   "cell_type": "code",
   "execution_count": 4,
   "metadata": {},
   "outputs": [
    {
     "data": {
      "text/html": [
       "<div>\n",
       "<style scoped>\n",
       "    .dataframe tbody tr th:only-of-type {\n",
       "        vertical-align: middle;\n",
       "    }\n",
       "\n",
       "    .dataframe tbody tr th {\n",
       "        vertical-align: top;\n",
       "    }\n",
       "\n",
       "    .dataframe thead th {\n",
       "        text-align: right;\n",
       "    }\n",
       "</style>\n",
       "<table border=\"1\" class=\"dataframe\">\n",
       "  <thead>\n",
       "    <tr style=\"text-align: right;\">\n",
       "      <th></th>\n",
       "      <th>avg_m2_price_rent</th>\n",
       "      <th>mean_price_rent</th>\n",
       "      <th>geometry</th>\n",
       "    </tr>\n",
       "  </thead>\n",
       "  <tbody>\n",
       "    <tr>\n",
       "      <th>0</th>\n",
       "      <td>724.346716</td>\n",
       "      <td>45426.664221</td>\n",
       "      <td>MULTIPOLYGON (((317501.141 6657001.314, 317490...</td>\n",
       "    </tr>\n",
       "    <tr>\n",
       "      <th>1</th>\n",
       "      <td>883.362808</td>\n",
       "      <td>45554.482535</td>\n",
       "      <td>POLYGON ((347889.496 6647694.723, 347900.553 6...</td>\n",
       "    </tr>\n",
       "  </tbody>\n",
       "</table>\n",
       "</div>"
      ],
      "text/plain": [
       "   avg_m2_price_rent  mean_price_rent  \\\n",
       "0         724.346716     45426.664221   \n",
       "1         883.362808     45554.482535   \n",
       "\n",
       "                                            geometry  \n",
       "0  MULTIPOLYGON (((317501.141 6657001.314, 317490...  \n",
       "1  POLYGON ((347889.496 6647694.723, 347900.553 6...  "
      ]
     },
     "execution_count": 4,
     "metadata": {},
     "output_type": "execute_result"
    }
   ],
   "source": []
  },
  {
   "cell_type": "code",
   "execution_count": 42,
   "metadata": {},
   "outputs": [],
   "source": [
    "path = \"/home/gk/vscode/rita_project_4/industrial-location/api/app/provisions_data/saint-petersburg_prov/houses_price_demo.parquet\"\n",
    "gdf = gpd.read_parquet(path)\n",
    "gdf.rename(columns={\"mean_price_rent\": \"price\"}, inplace=True)\n",
    "gdf['price'] = gdf['price'].round(0).astype(int)\n",
    "gdf.to_parquet(path)"
   ]
  },
  {
   "cell_type": "code",
   "execution_count": 38,
   "metadata": {},
   "outputs": [
    {
     "name": "stderr",
     "output_type": "stream",
     "text": [
      "100%|██████████| 3/3 [00:01<00:00,  1.92it/s]\n"
     ]
    }
   ],
   "source": [
    "import pandas as pd\n",
    "from tqdm import tqdm\n",
    "\n",
    "# \"policlinics\",\n",
    "services = [\"hospitals\", \"kindergartens\", \"multifunctional_centers\", \"schools\"]\n",
    "# 'Spb', \n",
    "cities = ['Shakhty', 'Perm', 'Tomsk']\n",
    "\n",
    "def get_prov_spb(city, service=None):\n",
    "    if city == 'Санкт-Петербург':\n",
    "        gdf_provision_service = gpd.read_parquet(\n",
    "                    f\"../provisions_data/{city}_prov/{service}.parquet\"\n",
    "                )\n",
    "    else:\n",
    "        gdf_provision_service = gpd.read_parquet(\n",
    "                f\"../provisions_data/{city}_prov/provision_buildings.parquet\"\n",
    "            )\n",
    "    gdf_provision_service.geometry = gdf_provision_service.representative_point()\n",
    "    \n",
    "    return gdf_provision_service\n",
    "\n",
    "\n",
    "def get_house_prices(city):\n",
    "    h_gdf = gpd.read_parquet(f'../provisions_data/{city}_prov/houses_price_demo.parquet')\n",
    "    h_gdf.to_crs(4326, inplace=True)\n",
    "    return h_gdf\n",
    "\n",
    "def join_prov_prices(h_gdf, gdf_provision_service, cols=[\"total_provision_assessment\", \"geometry\"]):\n",
    "    if cols:\n",
    "        gdf_provision_service = gdf_provision_service[cols] \n",
    "    return h_gdf.sjoin(\n",
    "        gdf_provision_service,\n",
    "        predicate=\"intersects\",\n",
    "        how=\"inner\",\n",
    "    )\\\n",
    "    .reset_index(drop=True)\\\n",
    "    .drop(columns=['index_right'])\n",
    "            \n",
    "def save_gdf(h_gdf, city):\n",
    "    h_gdf.to_parquet(f'../provisions_data/{city}_prov/houses_price_demo_prov.parquet')\n",
    "\n",
    "def filter_cols(df):\n",
    "    return df[df.columns[pd.Series(df.columns).str.contains(\"_provison_value|geometry\")]]\n",
    "\n",
    "for city in tqdm(cities):\n",
    "    # if city == 'Санкт-Петербург':\n",
    "    #     for service in services:\n",
    "    #         gdf_provision_service = get_prov_spb(city, service)\n",
    "    #         h_gdf = get_house_prices(city).iloc[:, :3]\n",
    "    #         h_gdf = join_prov_prices(h_gdf, gdf_provision_service)\n",
    "    #         h_gdf.rename(columns={\"total_provision_assessment\": f\"P_{service}\"}, inplace=True)\n",
    "    #         save_gdf(h_gdf, city)\n",
    "    # else:\n",
    "    gdf_provision_service = get_prov_spb(city)\n",
    "    gdf_provision_service = filter_cols(gdf_provision_service)\n",
    "    \n",
    "    for col in gdf_provision_service.columns:\n",
    "        if \"_provison_value\" in col:\n",
    "            gdf_provision_service.rename(columns={col: 'P_' + col.split('_provison_value')[0]}, inplace=True)\n",
    "    h_gdf = get_house_prices(city)\n",
    "    h_gdf = join_prov_prices(h_gdf, gdf_provision_service, cols=None)\n",
    "    save_gdf(h_gdf, city)\n",
    "        \n"
   ]
  },
  {
   "cell_type": "code",
   "execution_count": 39,
   "metadata": {},
   "outputs": [
    {
     "data": {
      "text/html": [
       "<div>\n",
       "<style scoped>\n",
       "    .dataframe tbody tr th:only-of-type {\n",
       "        vertical-align: middle;\n",
       "    }\n",
       "\n",
       "    .dataframe tbody tr th {\n",
       "        vertical-align: top;\n",
       "    }\n",
       "\n",
       "    .dataframe thead th {\n",
       "        text-align: right;\n",
       "    }\n",
       "</style>\n",
       "<table border=\"1\" class=\"dataframe\">\n",
       "  <thead>\n",
       "    <tr style=\"text-align: right;\">\n",
       "      <th></th>\n",
       "      <th>display_name</th>\n",
       "      <th>m2_price</th>\n",
       "      <th>price</th>\n",
       "      <th>geometry</th>\n",
       "      <th>P_kindergartens</th>\n",
       "      <th>P_schools</th>\n",
       "      <th>P_hospitals</th>\n",
       "      <th>P_policlinics</th>\n",
       "      <th>P_multifunctional_centers</th>\n",
       "    </tr>\n",
       "  </thead>\n",
       "  <tbody>\n",
       "    <tr>\n",
       "      <th>0</th>\n",
       "      <td>Tomsk, городской округ Томск, Tomsk Oblast, Si...</td>\n",
       "      <td>812</td>\n",
       "      <td>32480</td>\n",
       "      <td>POLYGON ((84.97932 56.50976, 84.97911 56.50962...</td>\n",
       "      <td>0.000000</td>\n",
       "      <td>0.65</td>\n",
       "      <td>1.0</td>\n",
       "      <td>1.0</td>\n",
       "      <td>0.0</td>\n",
       "    </tr>\n",
       "    <tr>\n",
       "      <th>1</th>\n",
       "      <td>Tomsk, городской округ Томск, Tomsk Oblast, Si...</td>\n",
       "      <td>812</td>\n",
       "      <td>32480</td>\n",
       "      <td>POLYGON ((84.98024 56.51050, 84.98000 56.51060...</td>\n",
       "      <td>0.769231</td>\n",
       "      <td>0.00</td>\n",
       "      <td>1.0</td>\n",
       "      <td>1.0</td>\n",
       "      <td>0.0</td>\n",
       "    </tr>\n",
       "  </tbody>\n",
       "</table>\n",
       "</div>"
      ],
      "text/plain": [
       "                                        display_name  m2_price  price  \\\n",
       "0  Tomsk, городской округ Томск, Tomsk Oblast, Si...       812  32480   \n",
       "1  Tomsk, городской округ Томск, Tomsk Oblast, Si...       812  32480   \n",
       "\n",
       "                                            geometry  P_kindergartens  \\\n",
       "0  POLYGON ((84.97932 56.50976, 84.97911 56.50962...         0.000000   \n",
       "1  POLYGON ((84.98024 56.51050, 84.98000 56.51060...         0.769231   \n",
       "\n",
       "   P_schools  P_hospitals  P_policlinics  P_multifunctional_centers  \n",
       "0       0.65          1.0            1.0                        0.0  \n",
       "1       0.00          1.0            1.0                        0.0  "
      ]
     },
     "execution_count": 39,
     "metadata": {},
     "output_type": "execute_result"
    }
   ],
   "source": [
    "h_gdf.head(2)"
   ]
  },
  {
   "cell_type": "code",
   "execution_count": 7,
   "metadata": {},
   "outputs": [],
   "source": []
  }
 ],
 "metadata": {
  "kernelspec": {
   "display_name": "Python 3",
   "language": "python",
   "name": "python3"
  },
  "language_info": {
   "codemirror_mode": {
    "name": "ipython",
    "version": 3
   },
   "file_extension": ".py",
   "mimetype": "text/x-python",
   "name": "python",
   "nbconvert_exporter": "python",
   "pygments_lexer": "ipython3",
   "version": "3.8.10"
  },
  "orig_nbformat": 4
 },
 "nbformat": 4,
 "nbformat_minor": 2
}
