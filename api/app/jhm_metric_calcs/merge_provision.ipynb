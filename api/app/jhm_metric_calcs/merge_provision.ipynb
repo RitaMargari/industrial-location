{
 "cells": [
  {
   "cell_type": "code",
   "execution_count": 2,
   "metadata": {},
   "outputs": [],
   "source": [
    "import geopandas as gpd"
   ]
  },
  {
   "cell_type": "code",
   "execution_count": 4,
   "metadata": {},
   "outputs": [
    {
     "data": {
      "text/html": [
       "<div>\n",
       "<style scoped>\n",
       "    .dataframe tbody tr th:only-of-type {\n",
       "        vertical-align: middle;\n",
       "    }\n",
       "\n",
       "    .dataframe tbody tr th {\n",
       "        vertical-align: top;\n",
       "    }\n",
       "\n",
       "    .dataframe thead th {\n",
       "        text-align: right;\n",
       "    }\n",
       "</style>\n",
       "<table border=\"1\" class=\"dataframe\">\n",
       "  <thead>\n",
       "    <tr style=\"text-align: right;\">\n",
       "      <th></th>\n",
       "      <th>avg_m2_price_rent</th>\n",
       "      <th>mean_price_rent</th>\n",
       "      <th>geometry</th>\n",
       "    </tr>\n",
       "  </thead>\n",
       "  <tbody>\n",
       "    <tr>\n",
       "      <th>0</th>\n",
       "      <td>724.346716</td>\n",
       "      <td>45426.664221</td>\n",
       "      <td>MULTIPOLYGON (((317501.141 6657001.314, 317490...</td>\n",
       "    </tr>\n",
       "    <tr>\n",
       "      <th>1</th>\n",
       "      <td>883.362808</td>\n",
       "      <td>45554.482535</td>\n",
       "      <td>POLYGON ((347889.496 6647694.723, 347900.553 6...</td>\n",
       "    </tr>\n",
       "  </tbody>\n",
       "</table>\n",
       "</div>"
      ],
      "text/plain": [
       "   avg_m2_price_rent  mean_price_rent  \\\n",
       "0         724.346716     45426.664221   \n",
       "1         883.362808     45554.482535   \n",
       "\n",
       "                                            geometry  \n",
       "0  MULTIPOLYGON (((317501.141 6657001.314, 317490...  \n",
       "1  POLYGON ((347889.496 6647694.723, 347900.553 6...  "
      ]
     },
     "execution_count": 4,
     "metadata": {},
     "output_type": "execute_result"
    }
   ],
   "source": [
    "h_gdf = gpd.read_parquet('../data/houses_price_demo.parquet').iloc[:, :3]\n",
    "h_gdf.to_crs(h_gdf.estimate_utm_crs().to_epsg(), inplace=True)\n",
    "h_gdf.head(2)"
   ]
  },
  {
   "cell_type": "code",
   "execution_count": 5,
   "metadata": {},
   "outputs": [],
   "source": [
    "services = [\"clinic\", \"hospitals\", \"kindergarten\", \"mfc\", \"schools\"]\n",
    "\n",
    "for service in services:\n",
    "    gdf = gpd.read_parquet(\n",
    "        f\"../provisions_data/spb/{service}.parquet\"\n",
    "    )\n",
    "    gdf.geometry = gdf.representative_point()\n",
    "    h_gdf = (\n",
    "        h_gdf.sjoin(\n",
    "            gdf[[\"total_provision_assessment\", \"geometry\"]],\n",
    "            predicate=\"intersects\",\n",
    "            how=\"inner\",\n",
    "        )\n",
    "        .rename(columns={\"total_provision_assessment\": f\"P_{service}\"})\n",
    "        .reset_index(drop=True)\n",
    "        .drop(columns=['index_right'])\n",
    "    )"
   ]
  },
  {
   "cell_type": "code",
   "execution_count": 6,
   "metadata": {},
   "outputs": [
    {
     "data": {
      "text/html": [
       "<div>\n",
       "<style scoped>\n",
       "    .dataframe tbody tr th:only-of-type {\n",
       "        vertical-align: middle;\n",
       "    }\n",
       "\n",
       "    .dataframe tbody tr th {\n",
       "        vertical-align: top;\n",
       "    }\n",
       "\n",
       "    .dataframe thead th {\n",
       "        text-align: right;\n",
       "    }\n",
       "</style>\n",
       "<table border=\"1\" class=\"dataframe\">\n",
       "  <thead>\n",
       "    <tr style=\"text-align: right;\">\n",
       "      <th></th>\n",
       "      <th>avg_m2_price_rent</th>\n",
       "      <th>mean_price_rent</th>\n",
       "      <th>geometry</th>\n",
       "      <th>P_clinic</th>\n",
       "      <th>P_hospitals</th>\n",
       "      <th>P_kindergarten</th>\n",
       "      <th>P_mfc</th>\n",
       "      <th>P_schools</th>\n",
       "    </tr>\n",
       "  </thead>\n",
       "  <tbody>\n",
       "    <tr>\n",
       "      <th>0</th>\n",
       "      <td>724.346716</td>\n",
       "      <td>45426.664221</td>\n",
       "      <td>MULTIPOLYGON (((317501.141 6657001.314, 317490...</td>\n",
       "      <td>1</td>\n",
       "      <td>0</td>\n",
       "      <td>0.0</td>\n",
       "      <td>1.0</td>\n",
       "      <td>0.0</td>\n",
       "    </tr>\n",
       "    <tr>\n",
       "      <th>1</th>\n",
       "      <td>883.362808</td>\n",
       "      <td>45554.482535</td>\n",
       "      <td>POLYGON ((347889.496 6647694.723, 347900.553 6...</td>\n",
       "      <td>1</td>\n",
       "      <td>1</td>\n",
       "      <td>0.0</td>\n",
       "      <td>1.0</td>\n",
       "      <td>1.0</td>\n",
       "    </tr>\n",
       "  </tbody>\n",
       "</table>\n",
       "</div>"
      ],
      "text/plain": [
       "   avg_m2_price_rent  mean_price_rent  \\\n",
       "0         724.346716     45426.664221   \n",
       "1         883.362808     45554.482535   \n",
       "\n",
       "                                            geometry  P_clinic  P_hospitals  \\\n",
       "0  MULTIPOLYGON (((317501.141 6657001.314, 317490...         1            0   \n",
       "1  POLYGON ((347889.496 6647694.723, 347900.553 6...         1            1   \n",
       "\n",
       "   P_kindergarten  P_mfc  P_schools  \n",
       "0             0.0    1.0        0.0  \n",
       "1             0.0    1.0        1.0  "
      ]
     },
     "execution_count": 6,
     "metadata": {},
     "output_type": "execute_result"
    }
   ],
   "source": [
    "h_gdf.head(2)"
   ]
  },
  {
   "cell_type": "code",
   "execution_count": 7,
   "metadata": {},
   "outputs": [],
   "source": [
    "h_gdf.to_parquet('../data/houses_price_demo.parquet')"
   ]
  }
 ],
 "metadata": {
  "kernelspec": {
   "display_name": "Python 3",
   "language": "python",
   "name": "python3"
  },
  "language_info": {
   "codemirror_mode": {
    "name": "ipython",
    "version": 3
   },
   "file_extension": ".py",
   "mimetype": "text/x-python",
   "name": "python",
   "nbconvert_exporter": "python",
   "pygments_lexer": "ipython3",
   "version": "3.8.10"
  },
  "orig_nbformat": 4
 },
 "nbformat": 4,
 "nbformat_minor": 2
}
