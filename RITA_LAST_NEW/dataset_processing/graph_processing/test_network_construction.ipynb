{
 "cells": [
  {
   "cell_type": "markdown",
   "metadata": {},
   "source": [
    "## Построить граф миграций"
   ]
  },
  {
   "cell_type": "code",
   "execution_count": null,
   "metadata": {},
   "outputs": [],
   "source": [
    "from network_construction import NetworkConstruction\n",
    "import pandas as pd\n",
    "import pickle"
   ]
  },
  {
   "cell_type": "code",
   "execution_count": null,
   "metadata": {},
   "outputs": [],
   "source": [
    "# Указать путь к файлам\n",
    "\n",
    "path = ''"
   ]
  },
  {
   "cell_type": "code",
   "execution_count": null,
   "metadata": {},
   "outputs": [],
   "source": [
    "# Чтение необходимых файлов\n",
    "\n",
    "vacancies = pd.read_csv(path + \"vacancy_unique_cities.csv\")\n",
    "responses = pd.read_csv(path + \"responses.csv\", sep=\";\")\n",
    "cv_cities = pd.read_csv(path + \"curricula_vitae_cities.csv\")\n",
    "cv_years = pd.read_csv(path + \"curricula_vitae_years.csv\")\n",
    "kladr_2021 = pd.read_csv(path + \"kladr.csv\")\n",
    "organizations = pd.read_csv(path + \"organizations.csv\", delimiter=\";\")\n",
    "\n",
    "with open(path + \"orgs_from_dadata_all.pkl\", \"rb\") as f:\n",
    "    org_cities = pickle.load(f)\n",
    "org_cities = pd.DataFrame(org_cities)\n",
    "org_cities = pd.json_normalize(org_cities.iloc[:, 0])\n",
    "\n",
    "specialists = pd.read_csv(path + 'specialists_table.csv')\n",
    "ontology = pd.read_csv(path + 'ontology.csv')"
   ]
  },
  {
   "cell_type": "code",
   "execution_count": null,
   "metadata": {},
   "outputs": [],
   "source": [
    "# data preprocessing\n",
    "\n",
    "responses = responses.merge(specialists[[\"id_cv\", \"label\"]], how=\"left\").merge(\n",
    "    ontology.rename(columns={\"Специальность\": \"label\", \"Отрасль\": \"industry\"})[\n",
    "        [\"label\", \"industry\"]\n",
    "    ]\n",
    "    .drop_duplicates()\n",
    "    .groupby(\"label\")[\"industry\"]\n",
    "    .apply(lambda x: \",\".join(x))\n",
    "    .reset_index()[[\"label\", \"industry\"]],\n",
    "    how=\"left\",\n",
    ")\n",
    "\n",
    "responses.loc[:, \"industry\"].fillna(\"Unknown\", inplace=True)"
   ]
  },
  {
   "cell_type": "markdown",
   "metadata": {},
   "source": [
    "#### Отфильтровать по году и индустрии исходные таблицы"
   ]
  },
  {
   "cell_type": "code",
   "execution_count": null,
   "metadata": {},
   "outputs": [],
   "source": [
    "G, responses2 = NetworkConstruction.run_pipeline(\n",
    "    responses=responses,\n",
    "    vacancies=vacancies,\n",
    "    kladr_2021=kladr_2021,\n",
    "    organizations=organizations,\n",
    "    dadata_organisations_info=org_cities,\n",
    "    cv_years=cv_years,\n",
    "    cv_cities=cv_cities,\n",
    "    years=list(range(2015, 2022)),\n",
    "    industries=[\"Судостроение\"],\n",
    "    return_responses=True,\n",
    ")"
   ]
  },
  {
   "cell_type": "markdown",
   "metadata": {},
   "source": [
    "#### Отфильтровать по профессии обработанную таблицу responses"
   ]
  },
  {
   "cell_type": "code",
   "execution_count": null,
   "metadata": {},
   "outputs": [],
   "source": [
    "G2, responses3 = NetworkConstruction.run_pipeline(\n",
    "    pre_calculated_responses=responses2,\n",
    "    group=['Монтажник'],\n",
    "    return_responses=True\n",
    ")"
   ]
  },
  {
   "cell_type": "markdown",
   "metadata": {},
   "source": [
    "#### Просто построить граф по обрабоданной таблице responses"
   ]
  },
  {
   "cell_type": "code",
   "execution_count": null,
   "metadata": {},
   "outputs": [],
   "source": [
    "G3 = NetworkConstruction.run_pipeline(\n",
    "    pre_calculated_responses=responses3\n",
    ")"
   ]
  }
 ],
 "metadata": {
  "kernelspec": {
   "display_name": "venv",
   "language": "python",
   "name": "python3"
  },
  "language_info": {
   "codemirror_mode": {
    "name": "ipython",
    "version": 3
   },
   "file_extension": ".py",
   "mimetype": "text/x-python",
   "name": "python",
   "nbconvert_exporter": "python",
   "pygments_lexer": "ipython3",
   "version": "3.8.10"
  },
  "orig_nbformat": 4
 },
 "nbformat": 4,
 "nbformat_minor": 2
}
