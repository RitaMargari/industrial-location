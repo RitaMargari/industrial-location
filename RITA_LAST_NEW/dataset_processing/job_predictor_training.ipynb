{
  "cells": [
    {
      "cell_type": "code",
      "execution_count": null,
      "id": "f592d2fb",
      "metadata": {
        "colab": {
          "base_uri": "https://localhost:8080/"
        },
        "execution": {
          "iopub.execute_input": "2023-05-30T21:12:52.022224Z",
          "iopub.status.busy": "2023-05-30T21:12:52.021743Z",
          "iopub.status.idle": "2023-05-30T21:13:11.412324Z",
          "shell.execute_reply": "2023-05-30T21:13:11.410412Z"
        },
        "id": "f592d2fb",
        "outputId": "c1c3d459-692d-4024-f707-83bf9d1a57dd",
        "papermill": {
          "duration": 19.405413,
          "end_time": "2023-05-30T21:13:11.414639",
          "exception": false,
          "start_time": "2023-05-30T21:12:52.009226",
          "status": "completed"
        },
        "tags": []
      },
      "outputs": [
        {
          "name": "stdout",
          "output_type": "stream",
          "text": [
            "Collecting pytorch-transformers\n",
            "  Downloading pytorch_transformers-1.2.0-py3-none-any.whl (176 kB)\n",
            "\u001b[?25l     \u001b[90m━━━━━━━━━━━━━━━━━━━━━━━━━━━━━━━━━━━━━━━━\u001b[0m \u001b[32m0.0/176.4 kB\u001b[0m \u001b[31m?\u001b[0m eta \u001b[36m-:--:--\u001b[0m\r\u001b[2K     \u001b[90m━━━━━━━━━━━━━━━━━━━━━━━━━━━━━━━━━━━━━━━\u001b[0m \u001b[32m176.4/176.4 kB\u001b[0m \u001b[31m8.6 MB/s\u001b[0m eta \u001b[36m0:00:00\u001b[0m\n",
            "\u001b[?25hRequirement already satisfied: torch>=1.0.0 in /usr/local/lib/python3.10/dist-packages (from pytorch-transformers) (2.0.1+cu118)\n",
            "Requirement already satisfied: numpy in /usr/local/lib/python3.10/dist-packages (from pytorch-transformers) (1.22.4)\n",
            "Collecting boto3 (from pytorch-transformers)\n",
            "  Downloading boto3-1.28.2-py3-none-any.whl (135 kB)\n",
            "\u001b[2K     \u001b[90m━━━━━━━━━━━━━━━━━━━━━━━━━━━━━━━━━━━━━━\u001b[0m \u001b[32m135.7/135.7 kB\u001b[0m \u001b[31m13.0 MB/s\u001b[0m eta \u001b[36m0:00:00\u001b[0m\n",
            "\u001b[?25hRequirement already satisfied: requests in /usr/local/lib/python3.10/dist-packages (from pytorch-transformers) (2.27.1)\n",
            "Requirement already satisfied: tqdm in /usr/local/lib/python3.10/dist-packages (from pytorch-transformers) (4.65.0)\n",
            "Requirement already satisfied: regex in /usr/local/lib/python3.10/dist-packages (from pytorch-transformers) (2022.10.31)\n",
            "Collecting sentencepiece (from pytorch-transformers)\n",
            "  Downloading sentencepiece-0.1.99-cp310-cp310-manylinux_2_17_x86_64.manylinux2014_x86_64.whl (1.3 MB)\n",
            "\u001b[2K     \u001b[90m━━━━━━━━━━━━━━━━━━━━━━━━━━━━━━━━━━━━━━━━\u001b[0m \u001b[32m1.3/1.3 MB\u001b[0m \u001b[31m58.7 MB/s\u001b[0m eta \u001b[36m0:00:00\u001b[0m\n",
            "\u001b[?25hCollecting sacremoses (from pytorch-transformers)\n",
            "  Downloading sacremoses-0.0.53.tar.gz (880 kB)\n",
            "\u001b[2K     \u001b[90m━━━━━━━━━━━━━━━━━━━━━━━━━━━━━━━━━━━━━━\u001b[0m \u001b[32m880.6/880.6 kB\u001b[0m \u001b[31m55.1 MB/s\u001b[0m eta \u001b[36m0:00:00\u001b[0m\n",
            "\u001b[?25h  Preparing metadata (setup.py) ... \u001b[?25l\u001b[?25hdone\n",
            "Requirement already satisfied: filelock in /usr/local/lib/python3.10/dist-packages (from torch>=1.0.0->pytorch-transformers) (3.12.2)\n",
            "Requirement already satisfied: typing-extensions in /usr/local/lib/python3.10/dist-packages (from torch>=1.0.0->pytorch-transformers) (4.7.1)\n",
            "Requirement already satisfied: sympy in /usr/local/lib/python3.10/dist-packages (from torch>=1.0.0->pytorch-transformers) (1.11.1)\n",
            "Requirement already satisfied: networkx in /usr/local/lib/python3.10/dist-packages (from torch>=1.0.0->pytorch-transformers) (3.1)\n",
            "Requirement already satisfied: jinja2 in /usr/local/lib/python3.10/dist-packages (from torch>=1.0.0->pytorch-transformers) (3.1.2)\n",
            "Requirement already satisfied: triton==2.0.0 in /usr/local/lib/python3.10/dist-packages (from torch>=1.0.0->pytorch-transformers) (2.0.0)\n",
            "Requirement already satisfied: cmake in /usr/local/lib/python3.10/dist-packages (from triton==2.0.0->torch>=1.0.0->pytorch-transformers) (3.25.2)\n",
            "Requirement already satisfied: lit in /usr/local/lib/python3.10/dist-packages (from triton==2.0.0->torch>=1.0.0->pytorch-transformers) (16.0.6)\n",
            "\u001b[31mERROR: Operation cancelled by user\u001b[0m\u001b[31m\n",
            "\u001b[0m"
          ]
        }
      ],
      "source": [
        "pip install pytorch-transformers"
      ]
    },
    {
      "cell_type": "code",
      "execution_count": null,
      "id": "e416ad4a",
      "metadata": {
        "execution": {
          "iopub.execute_input": "2023-05-30T21:13:11.438952Z",
          "iopub.status.busy": "2023-05-30T21:13:11.438578Z",
          "iopub.status.idle": "2023-05-30T21:13:24.248481Z",
          "shell.execute_reply": "2023-05-30T21:13:24.247594Z"
        },
        "id": "e416ad4a",
        "outputId": "a1ce0837-246b-41a1-edd0-61a18df903bd",
        "papermill": {
          "duration": 12.824976,
          "end_time": "2023-05-30T21:13:24.251109",
          "exception": false,
          "start_time": "2023-05-30T21:13:11.426133",
          "status": "completed"
        },
        "tags": []
      },
      "outputs": [
        {
          "name": "stderr",
          "output_type": "stream",
          "text": [
            "/opt/conda/lib/python3.10/site-packages/scipy/__init__.py:146: UserWarning: A NumPy version >=1.16.5 and <1.23.0 is required for this version of SciPy (detected version 1.23.5\n",
            "  warnings.warn(f\"A NumPy version >={np_minversion} and <{np_maxversion}\"\n"
          ]
        }
      ],
      "source": [
        "import pandas as pd\n",
        "import numpy as np\n",
        "import matplotlib.pyplot as plt\n",
        "\n",
        "from sklearn.model_selection import train_test_split\n",
        "from sklearn.metrics import roc_curve, f1_score, auc\n",
        "\n",
        "import torch\n",
        "import torch.nn as nn\n",
        "import torch.nn.functional as F\n",
        "import torch.optim as optim\n",
        "from torch.utils.data import TensorDataset, DataLoader, RandomSampler, SequentialSampler\n",
        "from pytorch_transformers import AdamW\n",
        "from transformers import BertForSequenceClassification,BertTokenizer\n",
        "from keras.utils import pad_sequences\n",
        "\n",
        "from tqdm import tqdm,trange\n",
        "tqdm.pandas()\n",
        "\n",
        "import warnings\n",
        "warnings.filterwarnings(\"ignore\")"
      ]
    },
    {
      "cell_type": "markdown",
      "id": "a363f475",
      "metadata": {
        "id": "a363f475",
        "papermill": {
          "duration": 0.010768,
          "end_time": "2023-05-30T21:13:24.273209",
          "exception": false,
          "start_time": "2023-05-30T21:13:24.262441",
          "status": "completed"
        },
        "tags": []
      },
      "source": [
        "Загрузим датафрейм, полученный с помощью collect_data_hh:"
      ]
    },
    {
      "cell_type": "code",
      "execution_count": null,
      "id": "15354381",
      "metadata": {
        "execution": {
          "iopub.execute_input": "2023-05-30T21:13:24.297135Z",
          "iopub.status.busy": "2023-05-30T21:13:24.296356Z",
          "iopub.status.idle": "2023-05-30T21:13:36.604684Z",
          "shell.execute_reply": "2023-05-30T21:13:36.603784Z"
        },
        "id": "15354381",
        "outputId": "acd17f68-889c-4415-ce08-bd957bc0a87f",
        "papermill": {
          "duration": 12.322737,
          "end_time": "2023-05-30T21:13:36.606863",
          "exception": false,
          "start_time": "2023-05-30T21:13:24.284126",
          "status": "completed"
        },
        "tags": []
      },
      "outputs": [
        {
          "data": {
            "text/html": [
              "<div>\n",
              "<style scoped>\n",
              "    .dataframe tbody tr th:only-of-type {\n",
              "        vertical-align: middle;\n",
              "    }\n",
              "\n",
              "    .dataframe tbody tr th {\n",
              "        vertical-align: top;\n",
              "    }\n",
              "\n",
              "    .dataframe thead th {\n",
              "        text-align: right;\n",
              "    }\n",
              "</style>\n",
              "<table border=\"1\" class=\"dataframe\">\n",
              "  <thead>\n",
              "    <tr style=\"text-align: right;\">\n",
              "      <th></th>\n",
              "      <th>id_candidate</th>\n",
              "      <th>id_cv</th>\n",
              "      <th>position_name</th>\n",
              "      <th>industry_code</th>\n",
              "      <th>skills</th>\n",
              "      <th>additional_skills</th>\n",
              "      <th>other_info</th>\n",
              "      <th>profession_code</th>\n",
              "      <th>faculty</th>\n",
              "      <th>qualification</th>\n",
              "      <th>speciality</th>\n",
              "      <th>job_title</th>\n",
              "      <th>demands</th>\n",
              "      <th>hh_names</th>\n",
              "    </tr>\n",
              "  </thead>\n",
              "  <tbody>\n",
              "    <tr>\n",
              "      <th>0</th>\n",
              "      <td>9cf5ef50-a4c4-11ea-a935-bfd13399602c</td>\n",
              "      <td>ed8b0a20-b20e-11ea-a14f-037acc02728d</td>\n",
              "      <td>оператор тигельный вырубной пресс</td>\n",
              "      <td>Industry</td>\n",
              "      <td>усидчивая склонный монотонный кропотливый работа</td>\n",
              "      <td>готовый работать человек деньга</td>\n",
              "      <td>хотеться найти работа сменный дневный график</td>\n",
              "      <td>NaN</td>\n",
              "      <td>издательский дело</td>\n",
              "      <td>специалист издательский дело</td>\n",
              "      <td>NaN</td>\n",
              "      <td>работник клише оператор тигельный машина опера...</td>\n",
              "      <td>работа тампопечатной машина тиснение постановк...</td>\n",
              "      <td>NaN</td>\n",
              "    </tr>\n",
              "    <tr>\n",
              "      <th>1</th>\n",
              "      <td>730447e0-92bf-11e9-8af8-e37b4be0b9ed</td>\n",
              "      <td>a04fab70-92c1-11e9-8af8-e37b4be0b9ed</td>\n",
              "      <td>инженер конструктор</td>\n",
              "      <td>Industry</td>\n",
              "      <td>знание основа система автоматизированный проек...</td>\n",
              "      <td>NaN</td>\n",
              "      <td>NaN</td>\n",
              "      <td>224914.0</td>\n",
              "      <td>аэрокосмический</td>\n",
              "      <td>инженер</td>\n",
              "      <td>NaN</td>\n",
              "      <td>NaN</td>\n",
              "      <td>NaN</td>\n",
              "      <td>NaN</td>\n",
              "    </tr>\n",
              "    <tr>\n",
              "      <th>2</th>\n",
              "      <td>cff06eb0-b7d1-11ea-9f0b-bfd13399602c</td>\n",
              "      <td>eb148250-b955-11ea-9238-736ab11edb0c</td>\n",
              "      <td>электрогазосварщик</td>\n",
              "      <td>Industry</td>\n",
              "      <td>NaN</td>\n",
              "      <td>NaN</td>\n",
              "      <td>NaN</td>\n",
              "      <td>197562.0</td>\n",
              "      <td>NaN</td>\n",
              "      <td>разряд</td>\n",
              "      <td>электогазосварщик газорезчик</td>\n",
              "      <td>NaN</td>\n",
              "      <td>NaN</td>\n",
              "      <td>Сварщик</td>\n",
              "    </tr>\n",
              "    <tr>\n",
              "      <th>3</th>\n",
              "      <td>3806fd60-a653-11ea-b45a-7bf9d8e248ac</td>\n",
              "      <td>386bdce0-a657-11ea-9353-1fdc17069750</td>\n",
              "      <td>машинист кран крановщик</td>\n",
              "      <td>MechanicalEngineering</td>\n",
              "      <td>NaN</td>\n",
              "      <td>NaN</td>\n",
              "      <td>NaN</td>\n",
              "      <td>NaN</td>\n",
              "      <td>очный</td>\n",
              "      <td>машинист кран автомобильный</td>\n",
              "      <td>машинист кран крановщик</td>\n",
              "      <td>NaN</td>\n",
              "      <td>NaN</td>\n",
              "      <td>NaN</td>\n",
              "    </tr>\n",
              "    <tr>\n",
              "      <th>4</th>\n",
              "      <td>638afdc0-a81e-11ea-b45a-7bf9d8e248ac</td>\n",
              "      <td>55018090-b09c-11ea-98a0-736ab11edb0c</td>\n",
              "      <td>оператор станок чпу</td>\n",
              "      <td>Metallurgy</td>\n",
              "      <td>NaN</td>\n",
              "      <td>NaN</td>\n",
              "      <td>NaN</td>\n",
              "      <td>191496.0</td>\n",
              "      <td>NaN</td>\n",
              "      <td>NaN</td>\n",
              "      <td>NaN</td>\n",
              "      <td>рабочий</td>\n",
              "      <td>работа станок измерение диталий</td>\n",
              "      <td>Оператор станков с ЧПУ</td>\n",
              "    </tr>\n",
              "    <tr>\n",
              "      <th>...</th>\n",
              "      <td>...</td>\n",
              "      <td>...</td>\n",
              "      <td>...</td>\n",
              "      <td>...</td>\n",
              "      <td>...</td>\n",
              "      <td>...</td>\n",
              "      <td>...</td>\n",
              "      <td>...</td>\n",
              "      <td>...</td>\n",
              "      <td>...</td>\n",
              "      <td>...</td>\n",
              "      <td>...</td>\n",
              "      <td>...</td>\n",
              "      <td>...</td>\n",
              "    </tr>\n",
              "    <tr>\n",
              "      <th>430616</th>\n",
              "      <td>4bde9760-8aed-11e6-af05-0f468c90bfa7</td>\n",
              "      <td>82bab5f7-8aef-11e6-af05-0f468c90bfa7</td>\n",
              "      <td>администратор воспитатель секретарь водитель</td>\n",
              "      <td>Industry</td>\n",
              "      <td>NaN</td>\n",
              "      <td>NaN</td>\n",
              "      <td>NaN</td>\n",
              "      <td>NaN</td>\n",
              "      <td>культура</td>\n",
              "      <td>NaN</td>\n",
              "      <td>специалист связь общественность</td>\n",
              "      <td>NaN</td>\n",
              "      <td>NaN</td>\n",
              "      <td>NaN</td>\n",
              "    </tr>\n",
              "    <tr>\n",
              "      <th>430617</th>\n",
              "      <td>14aae080-96a3-11ea-88d8-736ab11edb0c</td>\n",
              "      <td>529e3be0-9995-11ea-b25c-b905beff6f7a</td>\n",
              "      <td>токарь металл разряд</td>\n",
              "      <td>Metallurgy</td>\n",
              "      <td>NaN</td>\n",
              "      <td>NaN</td>\n",
              "      <td>NaN</td>\n",
              "      <td>NaN</td>\n",
              "      <td>NaN</td>\n",
              "      <td>NaN</td>\n",
              "      <td>токарь металл разряд</td>\n",
              "      <td>токарь разряд</td>\n",
              "      <td>механический обработка металл чтение чертёж ис...</td>\n",
              "      <td>Токарь, фрезеровщик, шлифовщик</td>\n",
              "    </tr>\n",
              "    <tr>\n",
              "      <th>430618</th>\n",
              "      <td>d807ae40-9486-11e7-8e38-ef76bd2a03c1</td>\n",
              "      <td>b645258a-9d32-11e7-9620-4376a32b3f45</td>\n",
              "      <td>инженер технолог</td>\n",
              "      <td>Industry</td>\n",
              "      <td>NaN</td>\n",
              "      <td>NaN</td>\n",
              "      <td>NaN</td>\n",
              "      <td>228544.0</td>\n",
              "      <td>технология машиностроение</td>\n",
              "      <td>инженер технолог</td>\n",
              "      <td>NaN</td>\n",
              "      <td>продавец консультант кладовщик отдел снабжение...</td>\n",
              "      <td>личный продажа консультация товар погрузочный ...</td>\n",
              "      <td>NaN</td>\n",
              "    </tr>\n",
              "    <tr>\n",
              "      <th>430619</th>\n",
              "      <td>c2238a10-7a9b-11ea-b248-037acc02728d</td>\n",
              "      <td>d4c675b0-7aa5-11ea-8b61-037acc02728d</td>\n",
              "      <td>столяр маляр</td>\n",
              "      <td>WorkingSpecialties</td>\n",
              "      <td>NaN</td>\n",
              "      <td>NaN</td>\n",
              "      <td>NaN</td>\n",
              "      <td>188741.0</td>\n",
              "      <td>NaN</td>\n",
              "      <td>NaN</td>\n",
              "      <td>NaN</td>\n",
              "      <td>NaN</td>\n",
              "      <td>NaN</td>\n",
              "      <td>NaN</td>\n",
              "    </tr>\n",
              "    <tr>\n",
              "      <th>430620</th>\n",
              "      <td>a69b77e0-e55c-11ea-b7e4-b905beff6f7a</td>\n",
              "      <td>09ca25a0-e562-11ea-b7e4-b905beff6f7a</td>\n",
              "      <td>конструктор модельер раскройщица закройщица те...</td>\n",
              "      <td>RootLightIndustry</td>\n",
              "      <td>повысить работоспособность быстрый реакция</td>\n",
              "      <td>умение работать самостоятельно решительность н...</td>\n",
              "      <td>NaN</td>\n",
              "      <td>NaN</td>\n",
              "      <td>NaN</td>\n",
              "      <td>NaN</td>\n",
              "      <td>конструктор модельер</td>\n",
              "      <td>NaN</td>\n",
              "      <td>NaN</td>\n",
              "      <td>NaN</td>\n",
              "    </tr>\n",
              "  </tbody>\n",
              "</table>\n",
              "<p>430621 rows × 14 columns</p>\n",
              "</div>"
            ],
            "text/plain": [
              "                                id_candidate  \\\n",
              "0       9cf5ef50-a4c4-11ea-a935-bfd13399602c   \n",
              "1       730447e0-92bf-11e9-8af8-e37b4be0b9ed   \n",
              "2       cff06eb0-b7d1-11ea-9f0b-bfd13399602c   \n",
              "3       3806fd60-a653-11ea-b45a-7bf9d8e248ac   \n",
              "4       638afdc0-a81e-11ea-b45a-7bf9d8e248ac   \n",
              "...                                      ...   \n",
              "430616  4bde9760-8aed-11e6-af05-0f468c90bfa7   \n",
              "430617  14aae080-96a3-11ea-88d8-736ab11edb0c   \n",
              "430618  d807ae40-9486-11e7-8e38-ef76bd2a03c1   \n",
              "430619  c2238a10-7a9b-11ea-b248-037acc02728d   \n",
              "430620  a69b77e0-e55c-11ea-b7e4-b905beff6f7a   \n",
              "\n",
              "                                       id_cv  \\\n",
              "0       ed8b0a20-b20e-11ea-a14f-037acc02728d   \n",
              "1       a04fab70-92c1-11e9-8af8-e37b4be0b9ed   \n",
              "2       eb148250-b955-11ea-9238-736ab11edb0c   \n",
              "3       386bdce0-a657-11ea-9353-1fdc17069750   \n",
              "4       55018090-b09c-11ea-98a0-736ab11edb0c   \n",
              "...                                      ...   \n",
              "430616  82bab5f7-8aef-11e6-af05-0f468c90bfa7   \n",
              "430617  529e3be0-9995-11ea-b25c-b905beff6f7a   \n",
              "430618  b645258a-9d32-11e7-9620-4376a32b3f45   \n",
              "430619  d4c675b0-7aa5-11ea-8b61-037acc02728d   \n",
              "430620  09ca25a0-e562-11ea-b7e4-b905beff6f7a   \n",
              "\n",
              "                                            position_name  \\\n",
              "0                       оператор тигельный вырубной пресс   \n",
              "1                                     инженер конструктор   \n",
              "2                                      электрогазосварщик   \n",
              "3                                 машинист кран крановщик   \n",
              "4                                     оператор станок чпу   \n",
              "...                                                   ...   \n",
              "430616       администратор воспитатель секретарь водитель   \n",
              "430617                               токарь металл разряд   \n",
              "430618                                   инженер технолог   \n",
              "430619                                       столяр маляр   \n",
              "430620  конструктор модельер раскройщица закройщица те...   \n",
              "\n",
              "                industry_code  \\\n",
              "0                    Industry   \n",
              "1                    Industry   \n",
              "2                    Industry   \n",
              "3       MechanicalEngineering   \n",
              "4                  Metallurgy   \n",
              "...                       ...   \n",
              "430616               Industry   \n",
              "430617             Metallurgy   \n",
              "430618               Industry   \n",
              "430619     WorkingSpecialties   \n",
              "430620      RootLightIndustry   \n",
              "\n",
              "                                                   skills  \\\n",
              "0        усидчивая склонный монотонный кропотливый работа   \n",
              "1       знание основа система автоматизированный проек...   \n",
              "2                                                     NaN   \n",
              "3                                                     NaN   \n",
              "4                                                     NaN   \n",
              "...                                                   ...   \n",
              "430616                                                NaN   \n",
              "430617                                                NaN   \n",
              "430618                                                NaN   \n",
              "430619                                                NaN   \n",
              "430620         повысить работоспособность быстрый реакция   \n",
              "\n",
              "                                        additional_skills  \\\n",
              "0                         готовый работать человек деньга   \n",
              "1                                                     NaN   \n",
              "2                                                     NaN   \n",
              "3                                                     NaN   \n",
              "4                                                     NaN   \n",
              "...                                                   ...   \n",
              "430616                                                NaN   \n",
              "430617                                                NaN   \n",
              "430618                                                NaN   \n",
              "430619                                                NaN   \n",
              "430620  умение работать самостоятельно решительность н...   \n",
              "\n",
              "                                          other_info  profession_code  \\\n",
              "0       хотеться найти работа сменный дневный график              NaN   \n",
              "1                                                NaN         224914.0   \n",
              "2                                                NaN         197562.0   \n",
              "3                                                NaN              NaN   \n",
              "4                                                NaN         191496.0   \n",
              "...                                              ...              ...   \n",
              "430616                                           NaN              NaN   \n",
              "430617                                           NaN              NaN   \n",
              "430618                                           NaN         228544.0   \n",
              "430619                                           NaN         188741.0   \n",
              "430620                                           NaN              NaN   \n",
              "\n",
              "                          faculty                 qualification  \\\n",
              "0               издательский дело  специалист издательский дело   \n",
              "1                 аэрокосмический                       инженер   \n",
              "2                             NaN                        разряд   \n",
              "3                           очный   машинист кран автомобильный   \n",
              "4                             NaN                           NaN   \n",
              "...                           ...                           ...   \n",
              "430616                   культура                           NaN   \n",
              "430617                        NaN                           NaN   \n",
              "430618  технология машиностроение              инженер технолог   \n",
              "430619                        NaN                           NaN   \n",
              "430620                        NaN                           NaN   \n",
              "\n",
              "                             speciality  \\\n",
              "0                                   NaN   \n",
              "1                                   NaN   \n",
              "2          электогазосварщик газорезчик   \n",
              "3               машинист кран крановщик   \n",
              "4                                   NaN   \n",
              "...                                 ...   \n",
              "430616  специалист связь общественность   \n",
              "430617             токарь металл разряд   \n",
              "430618                              NaN   \n",
              "430619                              NaN   \n",
              "430620             конструктор модельер   \n",
              "\n",
              "                                                job_title  \\\n",
              "0       работник клише оператор тигельный машина опера...   \n",
              "1                                                     NaN   \n",
              "2                                                     NaN   \n",
              "3                                                     NaN   \n",
              "4                                                 рабочий   \n",
              "...                                                   ...   \n",
              "430616                                                NaN   \n",
              "430617                                      токарь разряд   \n",
              "430618  продавец консультант кладовщик отдел снабжение...   \n",
              "430619                                                NaN   \n",
              "430620                                                NaN   \n",
              "\n",
              "                                                  demands  \\\n",
              "0       работа тампопечатной машина тиснение постановк...   \n",
              "1                                                     NaN   \n",
              "2                                                     NaN   \n",
              "3                                                     NaN   \n",
              "4                         работа станок измерение диталий   \n",
              "...                                                   ...   \n",
              "430616                                                NaN   \n",
              "430617  механический обработка металл чтение чертёж ис...   \n",
              "430618  личный продажа консультация товар погрузочный ...   \n",
              "430619                                                NaN   \n",
              "430620                                                NaN   \n",
              "\n",
              "                              hh_names  \n",
              "0                                  NaN  \n",
              "1                                  NaN  \n",
              "2                              Сварщик  \n",
              "3                                  NaN  \n",
              "4               Оператор станков с ЧПУ  \n",
              "...                                ...  \n",
              "430616                             NaN  \n",
              "430617  Токарь, фрезеровщик, шлифовщик  \n",
              "430618                             NaN  \n",
              "430619                             NaN  \n",
              "430620                             NaN  \n",
              "\n",
              "[430621 rows x 14 columns]"
            ]
          },
          "execution_count": 3,
          "metadata": {},
          "output_type": "execute_result"
        }
      ],
      "source": [
        "import pandas as pd\n",
        "data = pd.read_csv('/kaggle/input/cv-final/cv_for_bert_final.csv')\n",
        "data"
      ]
    },
    {
      "cell_type": "code",
      "execution_count": null,
      "id": "29c86d48",
      "metadata": {
        "execution": {
          "iopub.execute_input": "2023-05-30T21:13:36.632309Z",
          "iopub.status.busy": "2023-05-30T21:13:36.631467Z",
          "iopub.status.idle": "2023-05-30T21:13:38.345420Z",
          "shell.execute_reply": "2023-05-30T21:13:38.344445Z"
        },
        "id": "29c86d48",
        "papermill": {
          "duration": 1.728989,
          "end_time": "2023-05-30T21:13:38.347894",
          "exception": false,
          "start_time": "2023-05-30T21:13:36.618905",
          "status": "completed"
        },
        "tags": []
      },
      "outputs": [],
      "source": [
        "cols = ['position_name', 'skills', 'additional_skills', 'other_info', 'faculty',\n",
        "       'qualification', 'speciality', 'job_title', 'demands']\n",
        "data[cols] = data[cols].fillna(' ')"
      ]
    },
    {
      "cell_type": "markdown",
      "id": "03aad177",
      "metadata": {
        "id": "03aad177",
        "papermill": {
          "duration": 0.011635,
          "end_time": "2023-05-30T21:13:38.371335",
          "exception": false,
          "start_time": "2023-05-30T21:13:38.359700",
          "status": "completed"
        },
        "tags": []
      },
      "source": [
        "Закодируем категории из hh:"
      ]
    },
    {
      "cell_type": "code",
      "execution_count": null,
      "id": "5efef388",
      "metadata": {
        "execution": {
          "iopub.execute_input": "2023-05-30T21:13:38.395651Z",
          "iopub.status.busy": "2023-05-30T21:13:38.395353Z",
          "iopub.status.idle": "2023-05-30T21:13:38.706045Z",
          "shell.execute_reply": "2023-05-30T21:13:38.705097Z"
        },
        "id": "5efef388",
        "papermill": {
          "duration": 0.325443,
          "end_time": "2023-05-30T21:13:38.708484",
          "exception": false,
          "start_time": "2023-05-30T21:13:38.383041",
          "status": "completed"
        },
        "tags": []
      },
      "outputs": [],
      "source": [
        "def c(obj):\n",
        "    global i\n",
        "    if obj in dct:\n",
        "        return dct[obj]\n",
        "    else:\n",
        "        dct[obj] = i\n",
        "        i += 1\n",
        "        return dct[obj]\n",
        "\n",
        "i = 0\n",
        "dct = {}\n",
        "data['label'] = data['hh_names'].apply(c)"
      ]
    },
    {
      "cell_type": "markdown",
      "id": "457ba003",
      "metadata": {
        "id": "457ba003",
        "papermill": {
          "duration": 0.011873,
          "end_time": "2023-05-30T21:13:38.732416",
          "exception": false,
          "start_time": "2023-05-30T21:13:38.720543",
          "status": "completed"
        },
        "tags": []
      },
      "source": [
        "Визуализации:"
      ]
    },
    {
      "cell_type": "code",
      "execution_count": null,
      "id": "a0899e17",
      "metadata": {
        "execution": {
          "iopub.execute_input": "2023-05-30T21:13:38.756921Z",
          "iopub.status.busy": "2023-05-30T21:13:38.756613Z",
          "iopub.status.idle": "2023-05-30T21:13:39.251368Z",
          "shell.execute_reply": "2023-05-30T21:13:39.250435Z"
        },
        "id": "a0899e17",
        "outputId": "ba592b19-9295-44ad-c8ba-20542273c2e3",
        "papermill": {
          "duration": 0.509154,
          "end_time": "2023-05-30T21:13:39.253502",
          "exception": false,
          "start_time": "2023-05-30T21:13:38.744348",
          "status": "completed"
        },
        "tags": []
      },
      "outputs": [
        {
          "data": {
            "image/png": "[encoded data removed]",
            "text/plain": [
              "<Figure size 640x480 with 1 Axes>"
            ]
          },
          "metadata": {},
          "output_type": "display_data"
        }
      ],
      "source": [
        "counts = data['hh_names'].value_counts()\n",
        "plt.bar(counts.index, counts.values)\n",
        "\n",
        "plt.title('Категории рубрикатора hh')\n",
        "plt.xticks(rotation=90)\n",
        "plt.ylabel('Количество резюме')\n",
        "\n",
        "plt.show()"
      ]
    },
    {
      "cell_type": "code",
      "execution_count": null,
      "id": "f2db4a5f",
      "metadata": {
        "execution": {
          "iopub.execute_input": "2023-05-30T21:13:39.280378Z",
          "iopub.status.busy": "2023-05-30T21:13:39.280055Z",
          "iopub.status.idle": "2023-05-30T21:13:39.597522Z",
          "shell.execute_reply": "2023-05-30T21:13:39.596645Z"
        },
        "id": "f2db4a5f",
        "outputId": "71d3fc65-ca09-4129-92a9-016abdb4155d",
        "papermill": {
          "duration": 0.333055,
          "end_time": "2023-05-30T21:13:39.599513",
          "exception": false,
          "start_time": "2023-05-30T21:13:39.266458",
          "status": "completed"
        },
        "tags": []
      },
      "outputs": [
        {
          "data": {
            "image/png": "[encoded data removed]",
            "text/plain": [
              "<Figure size 640x480 with 1 Axes>"
            ]
          },
          "metadata": {},
          "output_type": "display_data"
        }
      ],
      "source": [
        "counts = data['industry_code'].value_counts()\n",
        "plt.bar(counts.index, counts.values)\n",
        "\n",
        "plt.title('Индустрии')\n",
        "plt.xticks(rotation=90)\n",
        "plt.ylabel('Количество резюме')\n",
        "\n",
        "plt.show()"
      ]
    },
    {
      "cell_type": "code",
      "execution_count": null,
      "id": "9d110037",
      "metadata": {
        "execution": {
          "iopub.execute_input": "2023-05-30T21:13:39.627523Z",
          "iopub.status.busy": "2023-05-30T21:13:39.627241Z",
          "iopub.status.idle": "2023-05-30T21:13:39.861618Z",
          "shell.execute_reply": "2023-05-30T21:13:39.860723Z"
        },
        "id": "9d110037",
        "outputId": "840c52e4-0f4c-4250-ea48-6d197c9c7ca1",
        "papermill": {
          "duration": 0.25064,
          "end_time": "2023-05-30T21:13:39.863688",
          "exception": false,
          "start_time": "2023-05-30T21:13:39.613048",
          "status": "completed"
        },
        "tags": []
      },
      "outputs": [
        {
          "data": {
            "image/png": "[encoded data removed]",
            "text/plain": [
              "<Figure size 640x480 with 1 Axes>"
            ]
          },
          "metadata": {},
          "output_type": "display_data"
        }
      ],
      "source": [
        "counts = data['hh_names'].isnull().value_counts()\n",
        "plt.bar(['Размеченные', 'Неразмеченные'], counts.values)\n",
        "\n",
        "plt.title('Соотношение размеченных и неразмеченных данных')\n",
        "plt.ylabel('Количество резюме')\n",
        "\n",
        "plt.show()"
      ]
    },
    {
      "cell_type": "markdown",
      "id": "01263f8b",
      "metadata": {
        "id": "01263f8b",
        "papermill": {
          "duration": 0.013467,
          "end_time": "2023-05-30T21:13:39.891251",
          "exception": false,
          "start_time": "2023-05-30T21:13:39.877784",
          "status": "completed"
        },
        "tags": []
      },
      "source": [
        "Соединим всю доступную информацию в один текст:"
      ]
    },
    {
      "cell_type": "code",
      "execution_count": null,
      "id": "c2edf6f2",
      "metadata": {
        "execution": {
          "iopub.execute_input": "2023-05-30T21:13:39.920165Z",
          "iopub.status.busy": "2023-05-30T21:13:39.919298Z",
          "iopub.status.idle": "2023-05-30T21:13:41.069394Z",
          "shell.execute_reply": "2023-05-30T21:13:41.068419Z"
        },
        "id": "c2edf6f2",
        "papermill": {
          "duration": 1.167225,
          "end_time": "2023-05-30T21:13:41.072131",
          "exception": false,
          "start_time": "2023-05-30T21:13:39.904906",
          "status": "completed"
        },
        "tags": []
      },
      "outputs": [],
      "source": [
        "data['full_description'] = data['position_name'] + ' ' + data['skills'] + ' ' + data['additional_skills'] + ' ' + data['job_title'] + ' ' + data['demands']"
      ]
    },
    {
      "cell_type": "markdown",
      "id": "f3c1d198",
      "metadata": {
        "id": "f3c1d198",
        "papermill": {
          "duration": 0.01354,
          "end_time": "2023-05-30T21:13:41.100078",
          "exception": false,
          "start_time": "2023-05-30T21:13:41.086538",
          "status": "completed"
        },
        "tags": []
      },
      "source": [
        "Разделим на размеченную и неразмеченную выборки:"
      ]
    },
    {
      "cell_type": "code",
      "execution_count": null,
      "id": "92eb45a2",
      "metadata": {
        "execution": {
          "iopub.execute_input": "2023-05-30T21:13:41.130614Z",
          "iopub.status.busy": "2023-05-30T21:13:41.130226Z",
          "iopub.status.idle": "2023-05-30T21:13:41.649609Z",
          "shell.execute_reply": "2023-05-30T21:13:41.648632Z"
        },
        "id": "92eb45a2",
        "papermill": {
          "duration": 0.538472,
          "end_time": "2023-05-30T21:13:41.652082",
          "exception": false,
          "start_time": "2023-05-30T21:13:41.113610",
          "status": "completed"
        },
        "tags": []
      },
      "outputs": [],
      "source": [
        "train = data.query('hh_names == hh_names')\n",
        "train['label'] = train['label'] - 1\n",
        "for_preds = data.query('hh_names != hh_names')\n",
        "\n",
        "train.to_csv('jobs_table_processed.csv',index=False)"
      ]
    },
    {
      "cell_type": "markdown",
      "id": "b29e7c3c",
      "metadata": {
        "id": "b29e7c3c",
        "papermill": {
          "duration": 0.014693,
          "end_time": "2023-05-30T21:13:41.681393",
          "exception": false,
          "start_time": "2023-05-30T21:13:41.666700",
          "status": "completed"
        },
        "tags": []
      },
      "source": [
        "Инициализируем модель и токенизатор:"
      ]
    },
    {
      "cell_type": "code",
      "execution_count": null,
      "id": "8ac0cf45",
      "metadata": {
        "colab": {
          "referenced_widgets": [
            "6c8cb50f93f84292a9793a72845dabf9",
            "fff328e9bb69428d908c0e7223e46ff4",
            "8ca8ad6f7f524ac6b2c94b5c7dc01971"
          ]
        },
        "execution": {
          "iopub.execute_input": "2023-05-30T21:13:41.709815Z",
          "iopub.status.busy": "2023-05-30T21:13:41.709498Z",
          "iopub.status.idle": "2023-05-30T21:19:11.507343Z",
          "shell.execute_reply": "2023-05-30T21:19:11.506208Z"
        },
        "id": "8ac0cf45",
        "outputId": "714748ee-4d48-4273-b254-ce470d133720",
        "papermill": {
          "duration": 329.817558,
          "end_time": "2023-05-30T21:19:11.512621",
          "exception": false,
          "start_time": "2023-05-30T21:13:41.695063",
          "status": "completed"
        },
        "tags": []
      },
      "outputs": [
        {
          "data": {
            "application/vnd.jupyter.widget-view+json": {
              "model_id": "6c8cb50f93f84292a9793a72845dabf9",
              "version_major": 2,
              "version_minor": 0
            },
            "text/plain": [
              "Downloading (…)lve/main/config.json:   0%|          | 0.00/590 [00:00<?, ?B/s]"
            ]
          },
          "metadata": {},
          "output_type": "display_data"
        },
        {
          "data": {
            "application/vnd.jupyter.widget-view+json": {
              "model_id": "fff328e9bb69428d908c0e7223e46ff4",
              "version_major": 2,
              "version_minor": 0
            },
            "text/plain": [
              "Downloading pytorch_model.bin:   0%|          | 0.00/716M [00:00<?, ?B/s]"
            ]
          },
          "metadata": {},
          "output_type": "display_data"
        },
        {
          "name": "stderr",
          "output_type": "stream",
          "text": [
            "Some weights of the model checkpoint at sberbank-ai/ruBert-base were not used when initializing BertForSequenceClassification: ['cls.predictions.bias', 'cls.seq_relationship.weight', 'cls.predictions.decoder.bias', 'cls.seq_relationship.bias', 'cls.predictions.transform.LayerNorm.weight', 'cls.predictions.transform.dense.weight', 'cls.predictions.decoder.weight', 'cls.predictions.transform.LayerNorm.bias', 'cls.predictions.transform.dense.bias']\n",
            "- This IS expected if you are initializing BertForSequenceClassification from the checkpoint of a model trained on another task or with another architecture (e.g. initializing a BertForSequenceClassification model from a BertForPreTraining model).\n",
            "- This IS NOT expected if you are initializing BertForSequenceClassification from the checkpoint of a model that you expect to be exactly identical (initializing a BertForSequenceClassification model from a BertForSequenceClassification model).\n",
            "Some weights of BertForSequenceClassification were not initialized from the model checkpoint at sberbank-ai/ruBert-base and are newly initialized: ['classifier.bias', 'classifier.weight']\n",
            "You should probably TRAIN this model on a down-stream task to be able to use it for predictions and inference.\n"
          ]
        },
        {
          "data": {
            "application/vnd.jupyter.widget-view+json": {
              "model_id": "8ca8ad6f7f524ac6b2c94b5c7dc01971",
              "version_major": 2,
              "version_minor": 0
            },
            "text/plain": [
              "Downloading (…)solve/main/vocab.txt:   0%|          | 0.00/1.78M [00:00<?, ?B/s]"
            ]
          },
          "metadata": {},
          "output_type": "display_data"
        },
        {
          "name": "stderr",
          "output_type": "stream",
          "text": [
            "100%|██████████| 278625/278625 [05:16<00:00, 880.03it/s]"
          ]
        },
        {
          "name": "stdout",
          "output_type": "stream",
          "text": [
            "['[CLS]', 'электро', '##газ', '##ос', '##вар', '##щик', '[SEP]']\n"
          ]
        },
        {
          "name": "stderr",
          "output_type": "stream",
          "text": [
            "\n"
          ]
        }
      ],
      "source": [
        "device = torch.device(\"cuda\" if torch.cuda.is_available() else \"cpu\")\n",
        "\n",
        "train_sentences = train['full_description'].values\n",
        "train_sentences = [' '.join(list(set(sent.split()))) for sent in train_sentences]\n",
        "train_gt = train['label'].values\n",
        "train_sentences = [\"[CLS] \" + sentence + \" [SEP]\" for sentence in train_sentences]\n",
        "\n",
        "model=BertForSequenceClassification .from_pretrained('sberbank-ai/ruBert-base', num_labels=25)\n",
        "tokenizer = BertTokenizer.from_pretrained('sberbank-ai/ruBert-base', do_lower_case=False)\n",
        "tokenized_texts = [tokenizer.tokenize(sent) for sent in tqdm(train_sentences)]\n",
        "print(tokenized_texts[0])"
      ]
    },
    {
      "cell_type": "markdown",
      "id": "11bb250c",
      "metadata": {
        "id": "11bb250c",
        "papermill": {
          "duration": 0.218785,
          "end_time": "2023-05-30T21:19:11.950701",
          "exception": false,
          "start_time": "2023-05-30T21:19:11.731916",
          "status": "completed"
        },
        "tags": []
      },
      "source": [
        "Словарь для векторизации и attention masks:"
      ]
    },
    {
      "cell_type": "code",
      "execution_count": null,
      "id": "905e518e",
      "metadata": {
        "execution": {
          "iopub.execute_input": "2023-05-30T21:19:12.429365Z",
          "iopub.status.busy": "2023-05-30T21:19:12.429007Z",
          "iopub.status.idle": "2023-05-30T21:22:24.032445Z",
          "shell.execute_reply": "2023-05-30T21:22:24.031171Z"
        },
        "id": "905e518e",
        "papermill": {
          "duration": 191.868135,
          "end_time": "2023-05-30T21:22:24.035445",
          "exception": false,
          "start_time": "2023-05-30T21:19:12.167310",
          "status": "completed"
        },
        "tags": []
      },
      "outputs": [],
      "source": [
        "input_ids = [tokenizer.convert_tokens_to_ids(x) for x in tokenized_texts]\n",
        "input_ids = pad_sequences(\n",
        "    input_ids,\n",
        "    maxlen=200,\n",
        "    truncating=\"post\",\n",
        "    padding=\"post\"\n",
        ")\n",
        "\n",
        "attention_masks = [[float(i>0) for i in seq] for seq in input_ids]"
      ]
    },
    {
      "cell_type": "markdown",
      "id": "9f5b530d",
      "metadata": {
        "id": "9f5b530d",
        "papermill": {
          "duration": 0.21546,
          "end_time": "2023-05-30T21:22:24.467356",
          "exception": false,
          "start_time": "2023-05-30T21:22:24.251896",
          "status": "completed"
        },
        "tags": []
      },
      "source": [
        "Разделим на тренировочную и валидационную выборки:"
      ]
    },
    {
      "cell_type": "code",
      "execution_count": null,
      "id": "ff61e827",
      "metadata": {
        "execution": {
          "iopub.execute_input": "2023-05-30T21:22:24.900106Z",
          "iopub.status.busy": "2023-05-30T21:22:24.899719Z",
          "iopub.status.idle": "2023-05-30T21:22:25.174657Z",
          "shell.execute_reply": "2023-05-30T21:22:25.173692Z"
        },
        "id": "ff61e827",
        "papermill": {
          "duration": 0.493723,
          "end_time": "2023-05-30T21:22:25.177198",
          "exception": false,
          "start_time": "2023-05-30T21:22:24.683475",
          "status": "completed"
        },
        "tags": []
      },
      "outputs": [],
      "source": [
        "train_inputs, validation_inputs, train_labels, validation_labels = train_test_split(\n",
        "    input_ids, train_gt,\n",
        "    random_state=42,\n",
        "    test_size=0.1,\n",
        ")\n",
        "\n",
        "train_masks, validation_masks, _, _ = train_test_split(\n",
        "    attention_masks,\n",
        "    input_ids,\n",
        "    random_state=42,\n",
        "    test_size=0.1\n",
        ")"
      ]
    },
    {
      "cell_type": "code",
      "execution_count": null,
      "id": "f16bb1d0",
      "metadata": {
        "execution": {
          "iopub.execute_input": "2023-05-30T21:22:25.612429Z",
          "iopub.status.busy": "2023-05-30T21:22:25.612070Z",
          "iopub.status.idle": "2023-05-30T21:22:39.837924Z",
          "shell.execute_reply": "2023-05-30T21:22:39.836960Z"
        },
        "id": "f16bb1d0",
        "papermill": {
          "duration": 14.443245,
          "end_time": "2023-05-30T21:22:39.840349",
          "exception": false,
          "start_time": "2023-05-30T21:22:25.397104",
          "status": "completed"
        },
        "tags": []
      },
      "outputs": [],
      "source": [
        "train_inputs = torch.tensor(train_inputs)\n",
        "train_labels = torch.tensor(train_labels)\n",
        "train_masks = torch.tensor(train_masks)\n",
        "\n",
        "validation_inputs = torch.tensor(validation_inputs)\n",
        "validation_labels = torch.tensor(validation_labels)\n",
        "validation_masks = torch.tensor(validation_masks)"
      ]
    },
    {
      "cell_type": "code",
      "execution_count": null,
      "id": "8db3873d",
      "metadata": {
        "execution": {
          "iopub.execute_input": "2023-05-30T21:22:40.274457Z",
          "iopub.status.busy": "2023-05-30T21:22:40.273602Z",
          "iopub.status.idle": "2023-05-30T21:22:40.278873Z",
          "shell.execute_reply": "2023-05-30T21:22:40.277943Z"
        },
        "id": "8db3873d",
        "papermill": {
          "duration": 0.223451,
          "end_time": "2023-05-30T21:22:40.280826",
          "exception": false,
          "start_time": "2023-05-30T21:22:40.057375",
          "status": "completed"
        },
        "tags": []
      },
      "outputs": [],
      "source": [
        "train_data = TensorDataset(train_inputs, train_masks, train_labels)\n",
        "train_dataloader = DataLoader(\n",
        "    train_data,\n",
        "    sampler=RandomSampler(train_data),\n",
        "    batch_size=32\n",
        ")"
      ]
    },
    {
      "cell_type": "code",
      "execution_count": null,
      "id": "e176024f",
      "metadata": {
        "execution": {
          "iopub.execute_input": "2023-05-30T21:22:40.720347Z",
          "iopub.status.busy": "2023-05-30T21:22:40.719996Z",
          "iopub.status.idle": "2023-05-30T21:22:40.724702Z",
          "shell.execute_reply": "2023-05-30T21:22:40.723835Z"
        },
        "id": "e176024f",
        "papermill": {
          "duration": 0.232235,
          "end_time": "2023-05-30T21:22:40.726744",
          "exception": false,
          "start_time": "2023-05-30T21:22:40.494509",
          "status": "completed"
        },
        "tags": []
      },
      "outputs": [],
      "source": [
        "validation_data = TensorDataset(validation_inputs, validation_masks, validation_labels)\n",
        "validation_dataloader = DataLoader(\n",
        "    validation_data,\n",
        "    sampler=SequentialSampler(validation_data),\n",
        "    batch_size=32\n",
        ")"
      ]
    },
    {
      "cell_type": "markdown",
      "id": "45f4bec7",
      "metadata": {
        "id": "45f4bec7",
        "papermill": {
          "duration": 0.265273,
          "end_time": "2023-05-30T21:22:41.207573",
          "exception": false,
          "start_time": "2023-05-30T21:22:40.942300",
          "status": "completed"
        },
        "tags": []
      },
      "source": [
        "Параметры модели:"
      ]
    },
    {
      "cell_type": "code",
      "execution_count": null,
      "id": "1bbde0f0",
      "metadata": {
        "execution": {
          "iopub.execute_input": "2023-05-30T21:22:41.643549Z",
          "iopub.status.busy": "2023-05-30T21:22:41.643193Z",
          "iopub.status.idle": "2023-05-30T21:22:46.871005Z",
          "shell.execute_reply": "2023-05-30T21:22:46.870049Z"
        },
        "id": "1bbde0f0",
        "papermill": {
          "duration": 5.449176,
          "end_time": "2023-05-30T21:22:46.873415",
          "exception": false,
          "start_time": "2023-05-30T21:22:41.424239",
          "status": "completed"
        },
        "tags": []
      },
      "outputs": [],
      "source": [
        "model.cuda();\n",
        "param_optimizer = list(model.named_parameters())\n",
        "no_decay = ['bias', 'gamma', 'beta']\n",
        "optimizer_grouped_parameters = [\n",
        "    {'params': [p for n, p in param_optimizer if not any(nd in n for nd in no_decay)],\n",
        "     'weight_decay_rate': 0.01},\n",
        "    {'params': [p for n, p in param_optimizer if any(nd in n for nd in no_decay)],\n",
        "     'weight_decay_rate': 0.0}\n",
        "]\n",
        "\n",
        "optimizer = AdamW(optimizer_grouped_parameters, lr=2e-5)"
      ]
    },
    {
      "cell_type": "markdown",
      "id": "3698b091",
      "metadata": {
        "id": "3698b091",
        "papermill": {
          "duration": 0.219807,
          "end_time": "2023-05-30T21:22:47.311206",
          "exception": false,
          "start_time": "2023-05-30T21:22:47.091399",
          "status": "completed"
        },
        "tags": []
      },
      "source": [
        "Обучение и валидация:"
      ]
    },
    {
      "cell_type": "code",
      "execution_count": null,
      "id": "53e926ba",
      "metadata": {
        "execution": {
          "iopub.execute_input": "2023-05-30T21:22:47.749075Z",
          "iopub.status.busy": "2023-05-30T21:22:47.748686Z",
          "iopub.status.idle": "2023-05-31T01:56:20.483099Z",
          "shell.execute_reply": "2023-05-31T01:56:20.481831Z"
        },
        "id": "53e926ba",
        "outputId": "86273428-eb3b-4bb7-9fa2-cf9adeca9aa6",
        "papermill": {
          "duration": 16412.956694,
          "end_time": "2023-05-31T01:56:20.485127",
          "exception": false,
          "start_time": "2023-05-30T21:22:47.528433",
          "status": "completed"
        },
        "tags": []
      },
      "outputs": [
        {
          "name": "stderr",
          "output_type": "stream",
          "text": [
            "7837it [1:20:43,  1.62it/s]\n"
          ]
        },
        {
          "name": "stdout",
          "output_type": "stream",
          "text": [
            "Epoch 1 Train loss: 0.4651603520537337\n"
          ]
        },
        {
          "name": "stderr",
          "output_type": "stream",
          "text": [
            "7837it [1:30:17,  1.45it/s]\n"
          ]
        },
        {
          "name": "stdout",
          "output_type": "stream",
          "text": [
            "Epoch 2 Train loss: 0.31787103207427064\n"
          ]
        },
        {
          "name": "stderr",
          "output_type": "stream",
          "text": [
            "7837it [1:39:46,  1.31it/s]\n"
          ]
        },
        {
          "name": "stdout",
          "output_type": "stream",
          "text": [
            "Epoch 3 Train loss: 0.26790220847100693\n"
          ]
        },
        {
          "name": "stderr",
          "output_type": "stream",
          "text": [
            "871it [02:43,  5.31it/s]\n"
          ]
        }
      ],
      "source": [
        "train_loss_set  = []\n",
        "train_loss = 0\n",
        "train_acc_set = []\n",
        "train_preds = []\n",
        "train_labels = []\n",
        "\n",
        "model.train()\n",
        "\n",
        "\n",
        "for epoch in range(3):\n",
        "    train_loss = 0\n",
        "    for step, batch in tqdm(enumerate(train_dataloader)):\n",
        "        batch = tuple(t.to(device) for t in batch)\n",
        "\n",
        "        b_input_ids, b_input_mask, b_labels = batch\n",
        "\n",
        "        optimizer.zero_grad()\n",
        "\n",
        "        loss = model(b_input_ids, token_type_ids=None, attention_mask=b_input_mask, labels=b_labels)\n",
        "        train_loss_set.append(loss[0].item())\n",
        "\n",
        "        logits = loss['logits'].detach().cpu().numpy()\n",
        "        batch_preds = np.argmax(logits, axis=1)\n",
        "        train_preds.extend(batch_preds)\n",
        "        train_labels.extend(b_labels)\n",
        "        if step % 100 == 0:\n",
        "            acc =  len([train_preds[i] for i in range(len(train_preds)) if train_preds[i] == train_labels[i]]) / len(train_labels)\n",
        "            train_acc_set.append(acc)\n",
        "\n",
        "        loss[0].backward()\n",
        "\n",
        "        optimizer.step()\n",
        "\n",
        "        train_loss += loss[0].item()\n",
        "\n",
        "    print(f\"Epoch {epoch+1} Train loss: {train_loss/len(train_dataloader)}\")\n",
        "\n",
        "model.eval()\n",
        "\n",
        "test_preds, test_labels, test_acc_set = [], [], []\n",
        "\n",
        "for step, batch in tqdm(enumerate(validation_dataloader)):\n",
        "    batch = tuple(t.to(device) for t in batch)\n",
        "\n",
        "    b_input_ids, b_input_mask, b_labels = batch\n",
        "\n",
        "    with torch.no_grad():\n",
        "        logits = model(b_input_ids, token_type_ids=None, attention_mask=b_input_mask)\n",
        "\n",
        "    logits = logits[0].detach().cpu().numpy()\n",
        "    label_ids = b_labels.to('cpu').numpy()\n",
        "\n",
        "    batch_preds = np.argmax(logits, axis=1)\n",
        "    batch_labels = label_ids\n",
        "\n",
        "    test_preds.extend(batch_preds)\n",
        "    test_labels.extend(batch_labels)\n",
        "\n",
        "    if step % 10 == 0:\n",
        "        acc =  len([test_preds[i] for i in range(len(test_preds)) if test_preds[i] == test_labels[i]]) / len(test_labels)\n",
        "        test_acc_set.append(acc)"
      ]
    },
    {
      "cell_type": "code",
      "execution_count": null,
      "id": "a507aa41",
      "metadata": {
        "execution": {
          "iopub.execute_input": "2023-05-31T01:56:24.747912Z",
          "iopub.status.busy": "2023-05-31T01:56:24.747535Z",
          "iopub.status.idle": "2023-05-31T01:56:25.103756Z",
          "shell.execute_reply": "2023-05-31T01:56:25.102684Z"
        },
        "id": "a507aa41",
        "outputId": "1bedc573-0bbf-423a-b50b-0a968d3a4974",
        "papermill": {
          "duration": 2.496849,
          "end_time": "2023-05-31T01:56:25.106042",
          "exception": false,
          "start_time": "2023-05-31T01:56:22.609193",
          "status": "completed"
        },
        "tags": []
      },
      "outputs": [
        {
          "data": {
            "text/plain": [
              "Text(0.5, 1.0, 'Loss тренировочной выборке')"
            ]
          },
          "execution_count": 19,
          "metadata": {},
          "output_type": "execute_result"
        },
        {
          "data": {
            "image/png": "[encoded data removed]",
            "text/plain": [
              "<Figure size 640x480 with 1 Axes>"
            ]
          },
          "metadata": {},
          "output_type": "display_data"
        }
      ],
      "source": [
        "plt.plot(train_loss_set)\n",
        "plt.title('Loss тренировочной выборке')"
      ]
    },
    {
      "cell_type": "code",
      "execution_count": null,
      "id": "9af7a84f",
      "metadata": {
        "execution": {
          "iopub.execute_input": "2023-05-31T01:56:29.742655Z",
          "iopub.status.busy": "2023-05-31T01:56:29.742279Z",
          "iopub.status.idle": "2023-05-31T01:56:29.975433Z",
          "shell.execute_reply": "2023-05-31T01:56:29.974562Z"
        },
        "id": "9af7a84f",
        "outputId": "69c09f33-f604-4f1e-c235-f6397c3c4539",
        "papermill": {
          "duration": 2.771334,
          "end_time": "2023-05-31T01:56:29.977386",
          "exception": false,
          "start_time": "2023-05-31T01:56:27.206052",
          "status": "completed"
        },
        "tags": []
      },
      "outputs": [
        {
          "data": {
            "text/plain": [
              "Text(0.5, 1.0, 'Accuracy на тренировочной выборке')"
            ]
          },
          "execution_count": 20,
          "metadata": {},
          "output_type": "execute_result"
        },
        {
          "data": {
            "image/png": "[encoded data removed]",
            "text/plain": [
              "<Figure size 640x480 with 1 Axes>"
            ]
          },
          "metadata": {},
          "output_type": "display_data"
        }
      ],
      "source": [
        "plt.plot(train_acc_set)\n",
        "plt.title('Accuracy на тренировочной выборке')"
      ]
    },
    {
      "cell_type": "code",
      "execution_count": null,
      "id": "446a50e7",
      "metadata": {
        "execution": {
          "iopub.execute_input": "2023-05-31T01:56:34.092669Z",
          "iopub.status.busy": "2023-05-31T01:56:34.092292Z",
          "iopub.status.idle": "2023-05-31T01:56:34.333953Z",
          "shell.execute_reply": "2023-05-31T01:56:34.332930Z"
        },
        "id": "446a50e7",
        "outputId": "f38514f7-5932-4bb0-a5f3-7fb569b1d218",
        "papermill": {
          "duration": 2.354376,
          "end_time": "2023-05-31T01:56:34.336118",
          "exception": false,
          "start_time": "2023-05-31T01:56:31.981742",
          "status": "completed"
        },
        "tags": []
      },
      "outputs": [
        {
          "name": "stdout",
          "output_type": "stream",
          "text": [
            "Acurracy на отложенной выборке:0.8930840182320641\n"
          ]
        }
      ],
      "source": [
        "res = pd.DataFrame(zip(test_preds, test_labels), columns=['predictions','label'])\n",
        "print(f'Acurracy на отложенной выборке:{res.query(\"predictions == label\").shape[0]/res.shape[0]}')"
      ]
    },
    {
      "cell_type": "code",
      "execution_count": null,
      "id": "e493e9e1",
      "metadata": {
        "execution": {
          "iopub.execute_input": "2023-05-31T01:56:38.609481Z",
          "iopub.status.busy": "2023-05-31T01:56:38.609116Z",
          "iopub.status.idle": "2023-05-31T02:21:55.764665Z",
          "shell.execute_reply": "2023-05-31T02:21:55.762951Z"
        },
        "id": "e493e9e1",
        "outputId": "fbbe3f1c-d059-4c01-8f15-068737d2988c",
        "papermill": {
          "duration": 1519.28003,
          "end_time": "2023-05-31T02:21:55.766821",
          "exception": false,
          "start_time": "2023-05-31T01:56:36.486791",
          "status": "completed"
        },
        "tags": []
      },
      "outputs": [
        {
          "name": "stderr",
          "output_type": "stream",
          "text": [
            "100%|██████████| 4750/4750 [14:50<00:00,  5.33it/s]\n"
          ]
        }
      ],
      "source": [
        "test_sentences = for_preds['full_description'].values\n",
        "train_sentences = [' '.join(list(set(sent.split()))) for sent in train_sentences]\n",
        "train_sentences = [\"[CLS] \" + sentence + \" [SEP]\" for sentence in train_sentences]\n",
        "\n",
        "tokenized_texts = [tokenizer.tokenize(sent) for sent in test_sentences]\n",
        "input_ids = [tokenizer.convert_tokens_to_ids(x) for x in tokenized_texts]\n",
        "\n",
        "input_ids = pad_sequences(\n",
        "    input_ids,\n",
        "    maxlen=200,\n",
        "    truncating=\"post\",\n",
        "    padding=\"post\"\n",
        ")\n",
        "\n",
        "attention_masks = [[float(i>0) for i in seq] for seq in input_ids]\n",
        "prediction_inputs = torch.tensor(input_ids)\n",
        "prediction_masks = torch.tensor(attention_masks)\n",
        "\n",
        "prediction_data = TensorDataset(\n",
        "    prediction_inputs,\n",
        "    prediction_masks\n",
        ")\n",
        "\n",
        "prediction_dataloader = DataLoader(\n",
        "    prediction_data,\n",
        "    sampler=SequentialSampler(prediction_data),\n",
        "    batch_size=32\n",
        ")\n",
        "model.eval()\n",
        "\n",
        "test_preds = []\n",
        "\n",
        "for batch in tqdm(prediction_dataloader):\n",
        "    batch = tuple(t.to(device) for t in batch)\n",
        "\n",
        "    b_input_ids, b_input_mask = batch\n",
        "\n",
        "    with torch.no_grad():\n",
        "        logits = model(b_input_ids, token_type_ids=None, attention_mask=b_input_mask)\n",
        "\n",
        "    logits = logits[0].detach().cpu().numpy()\n",
        "    batch_preds = np.argmax(logits, axis=1)\n",
        "    test_preds.extend(batch_preds)"
      ]
    },
    {
      "cell_type": "code",
      "execution_count": null,
      "id": "265b34a3",
      "metadata": {
        "execution": {
          "iopub.execute_input": "2023-05-31T02:22:00.758016Z",
          "iopub.status.busy": "2023-05-31T02:22:00.757493Z",
          "iopub.status.idle": "2023-05-31T02:22:01.392734Z",
          "shell.execute_reply": "2023-05-31T02:22:01.391827Z"
        },
        "id": "265b34a3",
        "outputId": "85981584-e6c2-4c1d-a49c-dd67943687c6",
        "papermill": {
          "duration": 3.181206,
          "end_time": "2023-05-31T02:22:01.394908",
          "exception": false,
          "start_time": "2023-05-31T02:21:58.213702",
          "status": "completed"
        },
        "tags": []
      },
      "outputs": [
        {
          "data": {
            "text/html": [
              "<div>\n",
              "<style scoped>\n",
              "    .dataframe tbody tr th:only-of-type {\n",
              "        vertical-align: middle;\n",
              "    }\n",
              "\n",
              "    .dataframe tbody tr th {\n",
              "        vertical-align: top;\n",
              "    }\n",
              "\n",
              "    .dataframe thead th {\n",
              "        text-align: right;\n",
              "    }\n",
              "</style>\n",
              "<table border=\"1\" class=\"dataframe\">\n",
              "  <thead>\n",
              "    <tr style=\"text-align: right;\">\n",
              "      <th></th>\n",
              "      <th>id_candidate</th>\n",
              "      <th>id_cv</th>\n",
              "      <th>position_name</th>\n",
              "      <th>industry_code</th>\n",
              "      <th>skills</th>\n",
              "      <th>additional_skills</th>\n",
              "      <th>other_info</th>\n",
              "      <th>profession_code</th>\n",
              "      <th>faculty</th>\n",
              "      <th>qualification</th>\n",
              "      <th>speciality</th>\n",
              "      <th>job_title</th>\n",
              "      <th>demands</th>\n",
              "      <th>hh_names</th>\n",
              "      <th>label</th>\n",
              "      <th>full_description</th>\n",
              "    </tr>\n",
              "  </thead>\n",
              "  <tbody>\n",
              "    <tr>\n",
              "      <th>0</th>\n",
              "      <td>9cf5ef50-a4c4-11ea-a935-bfd13399602c</td>\n",
              "      <td>ed8b0a20-b20e-11ea-a14f-037acc02728d</td>\n",
              "      <td>оператор тигельный вырубной пресс</td>\n",
              "      <td>Industry</td>\n",
              "      <td>усидчивая склонный монотонный кропотливый работа</td>\n",
              "      <td>готовый работать человек деньга</td>\n",
              "      <td>хотеться найти работа сменный дневный график</td>\n",
              "      <td>NaN</td>\n",
              "      <td>издательский дело</td>\n",
              "      <td>специалист издательский дело</td>\n",
              "      <td></td>\n",
              "      <td>работник клише оператор тигельный машина опера...</td>\n",
              "      <td>работа тампопечатной машина тиснение постановк...</td>\n",
              "      <td>NaN</td>\n",
              "      <td>6</td>\n",
              "      <td>оператор тигельный вырубной пресс усидчивая ск...</td>\n",
              "    </tr>\n",
              "    <tr>\n",
              "      <th>1</th>\n",
              "      <td>730447e0-92bf-11e9-8af8-e37b4be0b9ed</td>\n",
              "      <td>a04fab70-92c1-11e9-8af8-e37b4be0b9ed</td>\n",
              "      <td>инженер конструктор</td>\n",
              "      <td>Industry</td>\n",
              "      <td>знание основа система автоматизированный проек...</td>\n",
              "      <td></td>\n",
              "      <td></td>\n",
              "      <td>224914.0</td>\n",
              "      <td>аэрокосмический</td>\n",
              "      <td>инженер</td>\n",
              "      <td></td>\n",
              "      <td></td>\n",
              "      <td></td>\n",
              "      <td>NaN</td>\n",
              "      <td>5</td>\n",
              "      <td>инженер конструктор знание основа система авто...</td>\n",
              "    </tr>\n",
              "    <tr>\n",
              "      <th>3</th>\n",
              "      <td>3806fd60-a653-11ea-b45a-7bf9d8e248ac</td>\n",
              "      <td>386bdce0-a657-11ea-9353-1fdc17069750</td>\n",
              "      <td>машинист кран крановщик</td>\n",
              "      <td>MechanicalEngineering</td>\n",
              "      <td></td>\n",
              "      <td></td>\n",
              "      <td></td>\n",
              "      <td>NaN</td>\n",
              "      <td>очный</td>\n",
              "      <td>машинист кран автомобильный</td>\n",
              "      <td>машинист кран крановщик</td>\n",
              "      <td></td>\n",
              "      <td></td>\n",
              "      <td>NaN</td>\n",
              "      <td>3</td>\n",
              "      <td>машинист кран крановщик</td>\n",
              "    </tr>\n",
              "    <tr>\n",
              "      <th>6</th>\n",
              "      <td>504b8ec0-bb10-11e8-82be-e37b4be0b9ed</td>\n",
              "      <td>0e90c6c0-d06a-11e8-b75d-037acc02728d</td>\n",
              "      <td>облицовщик плиточник</td>\n",
              "      <td>WorkingSpecialties</td>\n",
              "      <td>умение согласовать работать коллектив</td>\n",
              "      <td>дисциплинированность ответственность</td>\n",
              "      <td></td>\n",
              "      <td>152203.0</td>\n",
              "      <td></td>\n",
              "      <td></td>\n",
              "      <td></td>\n",
              "      <td></td>\n",
              "      <td></td>\n",
              "      <td>NaN</td>\n",
              "      <td>8</td>\n",
              "      <td>облицовщик плиточник умение согласовать работа...</td>\n",
              "    </tr>\n",
              "    <tr>\n",
              "      <th>10</th>\n",
              "      <td>7621f110-7fdc-11ea-9d6e-ef76bd2a03c1</td>\n",
              "      <td>d26fa440-8012-11ea-b2aa-037acc02728d</td>\n",
              "      <td>швея закройщик</td>\n",
              "      <td>Industry</td>\n",
              "      <td></td>\n",
              "      <td>коммуникабельность трудолюбие порядочность</td>\n",
              "      <td></td>\n",
              "      <td>169098.0</td>\n",
              "      <td>портной женский лёгкий одежда</td>\n",
              "      <td>портной</td>\n",
              "      <td>портной разряд</td>\n",
              "      <td>швея</td>\n",
              "      <td>выполнение индивидуальный массовый швейный заказ</td>\n",
              "      <td>NaN</td>\n",
              "      <td>18</td>\n",
              "      <td>швея закройщик   коммуникабельность трудолюбие...</td>\n",
              "    </tr>\n",
              "    <tr>\n",
              "      <th>...</th>\n",
              "      <td>...</td>\n",
              "      <td>...</td>\n",
              "      <td>...</td>\n",
              "      <td>...</td>\n",
              "      <td>...</td>\n",
              "      <td>...</td>\n",
              "      <td>...</td>\n",
              "      <td>...</td>\n",
              "      <td>...</td>\n",
              "      <td>...</td>\n",
              "      <td>...</td>\n",
              "      <td>...</td>\n",
              "      <td>...</td>\n",
              "      <td>...</td>\n",
              "      <td>...</td>\n",
              "      <td>...</td>\n",
              "    </tr>\n",
              "    <tr>\n",
              "      <th>430614</th>\n",
              "      <td>c7823360-b0ca-11e6-ab05-037acc02728d</td>\n",
              "      <td>cfa32ff0-dda9-11e8-9a22-ef76bd2a03c1</td>\n",
              "      <td>слесарь электрик ремонт электрооборудование</td>\n",
              "      <td>ElectricpowerIndustry</td>\n",
              "      <td>разряд</td>\n",
              "      <td></td>\n",
              "      <td></td>\n",
              "      <td>NaN</td>\n",
              "      <td></td>\n",
              "      <td>слесарь электрик</td>\n",
              "      <td>слесарь электрик ремонт электрооборудование</td>\n",
              "      <td></td>\n",
              "      <td></td>\n",
              "      <td>NaN</td>\n",
              "      <td>11</td>\n",
              "      <td>слесарь электрик ремонт электрооборудование ра...</td>\n",
              "    </tr>\n",
              "    <tr>\n",
              "      <th>430616</th>\n",
              "      <td>4bde9760-8aed-11e6-af05-0f468c90bfa7</td>\n",
              "      <td>82bab5f7-8aef-11e6-af05-0f468c90bfa7</td>\n",
              "      <td>администратор воспитатель секретарь водитель</td>\n",
              "      <td>Industry</td>\n",
              "      <td></td>\n",
              "      <td></td>\n",
              "      <td></td>\n",
              "      <td>NaN</td>\n",
              "      <td>культура</td>\n",
              "      <td></td>\n",
              "      <td>специалист связь общественность</td>\n",
              "      <td></td>\n",
              "      <td></td>\n",
              "      <td>NaN</td>\n",
              "      <td>5</td>\n",
              "      <td>администратор воспитатель секретарь водитель  ...</td>\n",
              "    </tr>\n",
              "    <tr>\n",
              "      <th>430618</th>\n",
              "      <td>d807ae40-9486-11e7-8e38-ef76bd2a03c1</td>\n",
              "      <td>b645258a-9d32-11e7-9620-4376a32b3f45</td>\n",
              "      <td>инженер технолог</td>\n",
              "      <td>Industry</td>\n",
              "      <td></td>\n",
              "      <td></td>\n",
              "      <td></td>\n",
              "      <td>228544.0</td>\n",
              "      <td>технология машиностроение</td>\n",
              "      <td>инженер технолог</td>\n",
              "      <td></td>\n",
              "      <td>продавец консультант кладовщик отдел снабжение...</td>\n",
              "      <td>личный продажа консультация товар погрузочный ...</td>\n",
              "      <td>NaN</td>\n",
              "      <td>5</td>\n",
              "      <td>инженер технолог     продавец консультант клад...</td>\n",
              "    </tr>\n",
              "    <tr>\n",
              "      <th>430619</th>\n",
              "      <td>c2238a10-7a9b-11ea-b248-037acc02728d</td>\n",
              "      <td>d4c675b0-7aa5-11ea-8b61-037acc02728d</td>\n",
              "      <td>столяр маляр</td>\n",
              "      <td>WorkingSpecialties</td>\n",
              "      <td></td>\n",
              "      <td></td>\n",
              "      <td></td>\n",
              "      <td>188741.0</td>\n",
              "      <td></td>\n",
              "      <td></td>\n",
              "      <td></td>\n",
              "      <td></td>\n",
              "      <td></td>\n",
              "      <td>NaN</td>\n",
              "      <td>4</td>\n",
              "      <td>столяр маляр</td>\n",
              "    </tr>\n",
              "    <tr>\n",
              "      <th>430620</th>\n",
              "      <td>a69b77e0-e55c-11ea-b7e4-b905beff6f7a</td>\n",
              "      <td>09ca25a0-e562-11ea-b7e4-b905beff6f7a</td>\n",
              "      <td>конструктор модельер раскройщица закройщица те...</td>\n",
              "      <td>RootLightIndustry</td>\n",
              "      <td>повысить работоспособность быстрый реакция</td>\n",
              "      <td>умение работать самостоятельно решительность н...</td>\n",
              "      <td></td>\n",
              "      <td>NaN</td>\n",
              "      <td></td>\n",
              "      <td></td>\n",
              "      <td>конструктор модельер</td>\n",
              "      <td></td>\n",
              "      <td></td>\n",
              "      <td>NaN</td>\n",
              "      <td>18</td>\n",
              "      <td>конструктор модельер раскройщица закройщица те...</td>\n",
              "    </tr>\n",
              "  </tbody>\n",
              "</table>\n",
              "<p>151996 rows × 16 columns</p>\n",
              "</div>"
            ],
            "text/plain": [
              "                                id_candidate  \\\n",
              "0       9cf5ef50-a4c4-11ea-a935-bfd13399602c   \n",
              "1       730447e0-92bf-11e9-8af8-e37b4be0b9ed   \n",
              "3       3806fd60-a653-11ea-b45a-7bf9d8e248ac   \n",
              "6       504b8ec0-bb10-11e8-82be-e37b4be0b9ed   \n",
              "10      7621f110-7fdc-11ea-9d6e-ef76bd2a03c1   \n",
              "...                                      ...   \n",
              "430614  c7823360-b0ca-11e6-ab05-037acc02728d   \n",
              "430616  4bde9760-8aed-11e6-af05-0f468c90bfa7   \n",
              "430618  d807ae40-9486-11e7-8e38-ef76bd2a03c1   \n",
              "430619  c2238a10-7a9b-11ea-b248-037acc02728d   \n",
              "430620  a69b77e0-e55c-11ea-b7e4-b905beff6f7a   \n",
              "\n",
              "                                       id_cv  \\\n",
              "0       ed8b0a20-b20e-11ea-a14f-037acc02728d   \n",
              "1       a04fab70-92c1-11e9-8af8-e37b4be0b9ed   \n",
              "3       386bdce0-a657-11ea-9353-1fdc17069750   \n",
              "6       0e90c6c0-d06a-11e8-b75d-037acc02728d   \n",
              "10      d26fa440-8012-11ea-b2aa-037acc02728d   \n",
              "...                                      ...   \n",
              "430614  cfa32ff0-dda9-11e8-9a22-ef76bd2a03c1   \n",
              "430616  82bab5f7-8aef-11e6-af05-0f468c90bfa7   \n",
              "430618  b645258a-9d32-11e7-9620-4376a32b3f45   \n",
              "430619  d4c675b0-7aa5-11ea-8b61-037acc02728d   \n",
              "430620  09ca25a0-e562-11ea-b7e4-b905beff6f7a   \n",
              "\n",
              "                                            position_name  \\\n",
              "0                       оператор тигельный вырубной пресс   \n",
              "1                                     инженер конструктор   \n",
              "3                                 машинист кран крановщик   \n",
              "6                                    облицовщик плиточник   \n",
              "10                                         швея закройщик   \n",
              "...                                                   ...   \n",
              "430614        слесарь электрик ремонт электрооборудование   \n",
              "430616       администратор воспитатель секретарь водитель   \n",
              "430618                                   инженер технолог   \n",
              "430619                                       столяр маляр   \n",
              "430620  конструктор модельер раскройщица закройщица те...   \n",
              "\n",
              "                industry_code  \\\n",
              "0                    Industry   \n",
              "1                    Industry   \n",
              "3       MechanicalEngineering   \n",
              "6          WorkingSpecialties   \n",
              "10                   Industry   \n",
              "...                       ...   \n",
              "430614  ElectricpowerIndustry   \n",
              "430616               Industry   \n",
              "430618               Industry   \n",
              "430619     WorkingSpecialties   \n",
              "430620      RootLightIndustry   \n",
              "\n",
              "                                                   skills  \\\n",
              "0        усидчивая склонный монотонный кропотливый работа   \n",
              "1       знание основа система автоматизированный проек...   \n",
              "3                                                           \n",
              "6                   умение согласовать работать коллектив   \n",
              "10                                                          \n",
              "...                                                   ...   \n",
              "430614                                             разряд   \n",
              "430616                                                      \n",
              "430618                                                      \n",
              "430619                                                      \n",
              "430620         повысить работоспособность быстрый реакция   \n",
              "\n",
              "                                        additional_skills  \\\n",
              "0                         готовый работать человек деньга   \n",
              "1                                                           \n",
              "3                                                           \n",
              "6                    дисциплинированность ответственность   \n",
              "10             коммуникабельность трудолюбие порядочность   \n",
              "...                                                   ...   \n",
              "430614                                                      \n",
              "430616                                                      \n",
              "430618                                                      \n",
              "430619                                                      \n",
              "430620  умение работать самостоятельно решительность н...   \n",
              "\n",
              "                                          other_info  profession_code  \\\n",
              "0       хотеться найти работа сменный дневный график              NaN   \n",
              "1                                                            224914.0   \n",
              "3                                                                 NaN   \n",
              "6                                                            152203.0   \n",
              "10                                                           169098.0   \n",
              "...                                              ...              ...   \n",
              "430614                                                            NaN   \n",
              "430616                                                            NaN   \n",
              "430618                                                       228544.0   \n",
              "430619                                                       188741.0   \n",
              "430620                                                            NaN   \n",
              "\n",
              "                              faculty                 qualification  \\\n",
              "0                   издательский дело  специалист издательский дело   \n",
              "1                     аэрокосмический                       инженер   \n",
              "3                               очный   машинист кран автомобильный   \n",
              "6                                                                     \n",
              "10      портной женский лёгкий одежда                       портной   \n",
              "...                               ...                           ...   \n",
              "430614                                             слесарь электрик   \n",
              "430616                       культура                                 \n",
              "430618      технология машиностроение              инженер технолог   \n",
              "430619                                                                \n",
              "430620                                                                \n",
              "\n",
              "                                         speciality  \\\n",
              "0                                                     \n",
              "1                                                     \n",
              "3                           машинист кран крановщик   \n",
              "6                                                     \n",
              "10                                   портной разряд   \n",
              "...                                             ...   \n",
              "430614  слесарь электрик ремонт электрооборудование   \n",
              "430616              специалист связь общественность   \n",
              "430618                                                \n",
              "430619                                                \n",
              "430620                         конструктор модельер   \n",
              "\n",
              "                                                job_title  \\\n",
              "0       работник клише оператор тигельный машина опера...   \n",
              "1                                                           \n",
              "3                                                           \n",
              "6                                                           \n",
              "10                                                   швея   \n",
              "...                                                   ...   \n",
              "430614                                                      \n",
              "430616                                                      \n",
              "430618  продавец консультант кладовщик отдел снабжение...   \n",
              "430619                                                      \n",
              "430620                                                      \n",
              "\n",
              "                                                  demands hh_names  label  \\\n",
              "0       работа тампопечатной машина тиснение постановк...      NaN      6   \n",
              "1                                                              NaN      5   \n",
              "3                                                              NaN      3   \n",
              "6                                                              NaN      8   \n",
              "10       выполнение индивидуальный массовый швейный заказ      NaN     18   \n",
              "...                                                   ...      ...    ...   \n",
              "430614                                                         NaN     11   \n",
              "430616                                                         NaN      5   \n",
              "430618  личный продажа консультация товар погрузочный ...      NaN      5   \n",
              "430619                                                         NaN      4   \n",
              "430620                                                         NaN     18   \n",
              "\n",
              "                                         full_description  \n",
              "0       оператор тигельный вырубной пресс усидчивая ск...  \n",
              "1       инженер конструктор знание основа система авто...  \n",
              "3                         машинист кран крановщик          \n",
              "6       облицовщик плиточник умение согласовать работа...  \n",
              "10      швея закройщик   коммуникабельность трудолюбие...  \n",
              "...                                                   ...  \n",
              "430614  слесарь электрик ремонт электрооборудование ра...  \n",
              "430616  администратор воспитатель секретарь водитель  ...  \n",
              "430618  инженер технолог     продавец консультант клад...  \n",
              "430619                               столяр маляр          \n",
              "430620  конструктор модельер раскройщица закройщица те...  \n",
              "\n",
              "[151996 rows x 16 columns]"
            ]
          },
          "execution_count": 23,
          "metadata": {},
          "output_type": "execute_result"
        }
      ],
      "source": [
        "for_preds['label'] = test_preds\n",
        "for_preds"
      ]
    },
    {
      "cell_type": "code",
      "execution_count": null,
      "id": "1f30fe49",
      "metadata": {
        "execution": {
          "iopub.execute_input": "2023-05-31T02:22:06.384270Z",
          "iopub.status.busy": "2023-05-31T02:22:06.383918Z",
          "iopub.status.idle": "2023-05-31T02:22:06.455678Z",
          "shell.execute_reply": "2023-05-31T02:22:06.454730Z"
        },
        "id": "1f30fe49",
        "papermill": {
          "duration": 2.548461,
          "end_time": "2023-05-31T02:22:06.457844",
          "exception": false,
          "start_time": "2023-05-31T02:22:03.909383",
          "status": "completed"
        },
        "tags": []
      },
      "outputs": [],
      "source": [
        "new_dict = {\n",
        "    0: 'Сварщик',\n",
        "    1: 'Оператор станков с ЧПУ',\n",
        "    2: 'Контролёр ОТК',\n",
        "    3: 'Машинист',\n",
        "    4: 'Слесарь, сантехник',\n",
        "    5: 'Инженер-конструктор, инженер-проектировщик',\n",
        "    6: 'Оператор производственной линии',\n",
        "    7: 'Монтажник',\n",
        "    8: 'Разнорабочий',\n",
        "    9: 'Токарь, фрезеровщик, шлифовщик',\n",
        "    10: 'Инженер по эксплуатации',\n",
        "    11: 'Электромонтажник',\n",
        "    12: 'Геолог',\n",
        "    13: 'Инженер ПТО, инженер-сметчик',\n",
        "    14: 'Механик',\n",
        "    15: 'Научный специалист, исследователь',\n",
        "    16: 'Инженер ПНР',\n",
        "    17: 'Инженер по качеству',\n",
        "    18: 'Технолог',\n",
        "    19: 'Геодезист',\n",
        "    20: 'Инженер по охране труда и технике безопасности, инженер-эколог',\n",
        "    21: 'Лаборант',\n",
        "    22: 'Специалист по сертификации',\n",
        "    23: 'Инженер-электроник, инженер-электронщик',\n",
        "    24: 'Мастер по ремонту оборудования, техники'\n",
        "    }\n",
        "for_preds['hh_names'] = for_preds['label'].replace(new_dict)"
      ]
    },
    {
      "cell_type": "code",
      "execution_count": null,
      "id": "1b3c9838",
      "metadata": {
        "execution": {
          "iopub.execute_input": "2023-05-31T02:22:11.389540Z",
          "iopub.status.busy": "2023-05-31T02:22:11.389176Z",
          "iopub.status.idle": "2023-05-31T02:22:11.901280Z",
          "shell.execute_reply": "2023-05-31T02:22:11.900273Z"
        },
        "id": "1b3c9838",
        "papermill": {
          "duration": 2.98815,
          "end_time": "2023-05-31T02:22:11.903756",
          "exception": false,
          "start_time": "2023-05-31T02:22:08.915606",
          "status": "completed"
        },
        "tags": []
      },
      "outputs": [],
      "source": [
        "final_df = pd.concat([train, for_preds]).reset_index(drop=True)"
      ]
    },
    {
      "cell_type": "code",
      "execution_count": null,
      "id": "3d47e0c8",
      "metadata": {
        "execution": {
          "iopub.execute_input": "2023-05-31T02:22:17.248195Z",
          "iopub.status.busy": "2023-05-31T02:22:17.247832Z",
          "iopub.status.idle": "2023-05-31T02:22:37.910701Z",
          "shell.execute_reply": "2023-05-31T02:22:37.909752Z"
        },
        "id": "3d47e0c8",
        "papermill": {
          "duration": 23.514584,
          "end_time": "2023-05-31T02:22:37.913089",
          "exception": false,
          "start_time": "2023-05-31T02:22:14.398505",
          "status": "completed"
        },
        "tags": []
      },
      "outputs": [],
      "source": [
        "final_df.to_csv('final_df.csv')"
      ]
    },
    {
      "cell_type": "code",
      "execution_count": null,
      "id": "2b9f5be5",
      "metadata": {
        "execution": {
          "iopub.execute_input": "2023-05-31T02:22:43.048270Z",
          "iopub.status.busy": "2023-05-31T02:22:43.047644Z",
          "iopub.status.idle": "2023-05-31T02:22:44.761245Z",
          "shell.execute_reply": "2023-05-31T02:22:44.759973Z"
        },
        "id": "2b9f5be5",
        "papermill": {
          "duration": 4.29839,
          "end_time": "2023-05-31T02:22:44.765109",
          "exception": false,
          "start_time": "2023-05-31T02:22:40.466719",
          "status": "completed"
        },
        "tags": []
      },
      "outputs": [],
      "source": [
        "import pickle\n",
        "\n",
        "with open('model.pkl', 'wb') as f:\n",
        "    pickle.dump(model, f)"
      ]
    }
  ],
  "metadata": {
    "colab": {
      "provenance": []
    },
    "kernelspec": {
      "display_name": "Python 3",
      "language": "python",
      "name": "python3"
    },
    "language_info": {
      "codemirror_mode": {
        "name": "ipython",
        "version": 3
      },
      "file_extension": ".py",
      "mimetype": "text/x-python",
      "name": "python",
      "nbconvert_exporter": "python",
      "pygments_lexer": "ipython3",
      "version": "3.10.10"
    },
    "papermill": {
      "default_parameters": {},
      "duration": 18609.460348,
      "end_time": "2023-05-31T02:22:50.353380",
      "environment_variables": {},
      "exception": null,
      "input_path": "__notebook__.ipynb",
      "output_path": "__notebook__.ipynb",
      "parameters": {},
      "start_time": "2023-05-30T21:12:40.893032",
      "version": "2.4.0"
    }
  },
  "nbformat": 4,
  "nbformat_minor": 5
}
