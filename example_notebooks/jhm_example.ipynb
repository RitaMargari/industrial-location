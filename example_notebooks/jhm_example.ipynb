{
 "cells": [
  {
   "cell_type": "code",
   "execution_count": null,
   "metadata": {},
   "outputs": [],
   "source": [
    "import sys\n",
    "import os\n",
    "path = '/'.join(os.getcwd().split('/')[:-1])\n",
    "sys.path.append(path)\n",
    "sys.path.append(path + '/api')\n",
    "\n",
    "import geopandas as gpd\n",
    "from api.app.jhm_metric_calcs.jhm_metric import main\n",
    "import networkx as nx\n",
    "from api.app.constants import CRS_WGS84"
   ]
  },
  {
   "cell_type": "code",
   "execution_count": null,
   "metadata": {},
   "outputs": [],
   "source": [
    "# read dataset with avg rent price and house locations (geometry)\n",
    "city_name = 'saint-petersburg'\n",
    "g_type='drive'\n",
    "\n",
    "# read drive nx graph\n",
    "G_d = nx.read_graphml(f'../api/app/provisions_data/{city_name}_prov/G_{g_type}.graphml')\n",
    "# industrial-location/api/app/provisions_data/saint-petersburg_prov/G_drive.graphml\n",
    "house_prices = gpd.read_parquet(f\"../api/app/provisions_data/{city_name}_prov/houses_price_demo_prov.parquet\")\n",
    "house_prices = house_prices.to_crs(G_d.graph[\"crs\"])\n",
    "\n"
   ]
  },
  {
   "cell_type": "code",
   "execution_count": null,
   "metadata": {},
   "outputs": [],
   "source": [
    "G_d.graph['crs']"
   ]
  },
  {
   "cell_type": "code",
   "execution_count": null,
   "metadata": {},
   "outputs": [],
   "source": [
    "list(G_d.nodes(data=True))[3]"
   ]
  },
  {
   "cell_type": "code",
   "execution_count": null,
   "metadata": {},
   "outputs": [],
   "source": [
    "# define company's potential location\n",
    "# and convert coordinates crs to local crs\n",
    "\n",
    "company_location = {\"lat\": 59.9104014341562, \"lon\": 29.790547185864483}"
   ]
  },
  {
   "cell_type": "code",
   "execution_count": null,
   "metadata": {},
   "outputs": [],
   "source": [
    "class Worker():\n",
    "    speciality: str\n",
    "    salary: int\n",
    "\n",
    "worker1 = Worker()\n",
    "worker1.speciality = \"worker_1\"\n",
    "worker1.salary = 90_000\n",
    "\n",
    "worker2 = Worker()\n",
    "worker2.speciality = \"worker_2\"\n",
    "worker2.salary = 120_000"
   ]
  },
  {
   "cell_type": "code",
   "execution_count": null,
   "metadata": {},
   "outputs": [],
   "source": [
    "worker_and_salary = [worker1, worker2]"
   ]
  },
  {
   "cell_type": "code",
   "execution_count": null,
   "metadata": {},
   "outputs": [],
   "source": [
    "res = main(\n",
    "    gdf_houses=house_prices,\n",
    "    worker_and_salary=worker_and_salary,\n",
    "    company_location=company_location,\n",
    "    graph=G_d,\n",
    "    cell_size_meters=300)"
   ]
  },
  {
   "cell_type": "code",
   "execution_count": null,
   "metadata": {},
   "outputs": [],
   "source": [
    "gpd.GeoDataFrame.from_features(\n",
    "    json.loads(res[\"gdfs\"][\"worker_1\"][\"grid\"]), crs=CRS_WGS84\n",
    ").sort_values(by='Iq_mean')"
   ]
  },
  {
   "cell_type": "code",
   "execution_count": null,
   "metadata": {},
   "outputs": [],
   "source": [
    "import json\n",
    "\n",
    "gpd.GeoDataFrame.from_features(\n",
    "    json.loads(res[\"gdfs\"][\"worker_1\"][\"grid\"]), crs=CRS_WGS84\n",
    ").explore(column=\"Iq_mean\")"
   ]
  },
  {
   "cell_type": "code",
   "execution_count": null,
   "metadata": {},
   "outputs": [],
   "source": [
    "import json\n",
    "\n",
    "gpd.GeoDataFrame.from_features(\n",
    "    json.loads(res[\"gdfs\"][\"worker_1\"][\"house_points\"]), crs=CRS_WGS84\n",
    ").explore(column=\"Idx\")"
   ]
  }
 ],
 "metadata": {
  "kernelspec": {
   "display_name": "Python 3",
   "language": "python",
   "name": "python3"
  },
  "language_info": {
   "codemirror_mode": {
    "name": "ipython",
    "version": 3
   },
   "file_extension": ".py",
   "mimetype": "text/x-python",
   "name": "python",
   "nbconvert_exporter": "python",
   "pygments_lexer": "ipython3",
   "version": "3.10.13"
  },
  "orig_nbformat": 4
 },
 "nbformat": 4,
 "nbformat_minor": 2
}
